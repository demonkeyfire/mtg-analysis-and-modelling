{
 "cells": [
  {
   "cell_type": "markdown",
   "metadata": {},
   "source": [
    "# All Printings Table"
   ]
  },
  {
   "cell_type": "markdown",
   "metadata": {},
   "source": [
    "## Introduction"
   ]
  },
  {
   "cell_type": "markdown",
   "metadata": {},
   "source": [
    "The purpose of this notebook is to process and upload all card data from MTGJSON into the postgresql database mtg_db. This is done through the following steps:\n",
    "- Download the json file from MTGJSON's file server\n",
    "- Check the version and date of the json file\n",
    "- Pre-process the dictionary and convert it into a dataframe\n",
    "- Push the keywords dataframe to the database \"raw_data\" schema"
   ]
  },
  {
   "cell_type": "markdown",
   "metadata": {},
   "source": [
    "## Python Libraries"
   ]
  },
  {
   "cell_type": "code",
   "execution_count": 28,
   "metadata": {},
   "outputs": [],
   "source": [
    "import json, requests, gzip, io, re\n",
    "import numpy      as     np\n",
    "import pandas     as     pd\n",
    "from   tqdm       import tqdm\n",
    "from   contextlib import redirect_stdout\n",
    "from   sqlalchemy import create_engine, Table, Column, MetaData, Text, Date, text\n",
    "from   sqlalchemy.dialects.postgresql import insert"
   ]
  },
  {
   "cell_type": "markdown",
   "metadata": {},
   "source": [
    "## Functions"
   ]
  },
  {
   "cell_type": "code",
   "execution_count": 42,
   "metadata": {},
   "outputs": [],
   "source": [
    "# Function for showing the hierarchy of a dictionary or the schema of a single level\n",
    "def print_dict_structure(data, max_depth=None, _indent=0):\n",
    "\n",
    "    \"\"\"\n",
    "    Recursively prints the hierarchical structure of a dictionary or list,\n",
    "    including the length of each element where applicable.\n",
    "    \n",
    "    If max_depth=1, returns a DataFrame with columns: KEY_NAME, DATA_TYPE, LENGTH.\n",
    "    \n",
    "    Args:\n",
    "        data: The dictionary or list to explore.\n",
    "        max_depth: Limit how deep to traverse (None for full depth).\n",
    "    \n",
    "    Returns:\n",
    "        pd.DataFrame if max_depth=1, otherwise None (prints output).\n",
    "    \"\"\"\n",
    "    \n",
    "    # Check if we are at the top level and max_depth=1 to return DataFrame instead of printing\n",
    "    if max_depth == 1 and _indent == 0:\n",
    "        # Initialize list to collect rows for the DataFrame\n",
    "        rows = []\n",
    "\n",
    "        # If data is a dictionary, iterate over its keys and values\n",
    "        if isinstance(data, dict):\n",
    "            for key, value in data.items():\n",
    "                # Determine length if possible, otherwise set to 0\n",
    "                length = len(value) if hasattr(value, \"__len__\") and not isinstance(value, (str, bytes)) else 0\n",
    "                # Append a tuple of key name, data type, and length to rows\n",
    "                rows.append((key, type(value).__name__, length))\n",
    "\n",
    "        # If data is a list, take the first element (assumed dict) and do the same\n",
    "        elif isinstance(data, list) and data:\n",
    "            for key, value in data[0].items():\n",
    "                # Determine length if possible, otherwise set to 0\n",
    "                length = len(value) if hasattr(value, \"__len__\") and not isinstance(value, (str, bytes)) else 0\n",
    "                # Append a tuple of key name, data type, and length to rows\n",
    "                rows.append((key, type(value).__name__, length))\n",
    "\n",
    "        # Convert collected rows into a DataFrame with specific column names\n",
    "        return pd.DataFrame(rows, columns=[\"KEY_NAME\", \"DATA_TYPE\", \"LENGTH\"])\n",
    "    \n",
    "    # Create a prefix for indentation when printing nested structures\n",
    "    prefix = \"  \" * _indent\n",
    "\n",
    "    # If data is a dictionary, iterate recursively\n",
    "    if isinstance(data, dict):\n",
    "        for key, value in data.items():\n",
    "            # Prepare a string showing type and length for printing\n",
    "            length_info = f\", len={len(value)}\" if hasattr(value, \"__len__\") and not isinstance(value, (str, bytes)) else \"\"\n",
    "            # Print the key name, type, and length with proper indentation\n",
    "            print(f\"{prefix}{key} ({type(value).__name__}{length_info})\")\n",
    "            # Recurse into value if max_depth is not reached\n",
    "            if max_depth is None or _indent < max_depth - 1:\n",
    "                print_dict_structure(value, max_depth, _indent + 1)\n",
    "\n",
    "    # If data is a list, recurse into the first element (assuming homogeneous elements)\n",
    "    elif isinstance(data, list):\n",
    "        if data and (max_depth is None or _indent < max_depth - 1):\n",
    "            print_dict_structure(data[0], max_depth, _indent + 1)\n",
    "\n",
    "    # For non-dict and non-list elements, print their type and length\n",
    "    else:\n",
    "        # Prepare a string showing type and length for printing\n",
    "        length_info = f\", len={len(data)}\" if hasattr(data, \"__len__\") and not isinstance(data, (str, bytes)) else \"\"\n",
    "        # Print the type and length with proper indentation\n",
    "        print(f\"{prefix}{type(data).__name__}{length_info}\")"
   ]
  },
  {
   "cell_type": "code",
   "execution_count": 2,
   "metadata": {},
   "outputs": [],
   "source": [
    "# Function for showing the data and version of the MTGJSON data\n",
    "def data_recency_check(data, json_type):\n",
    "\n",
    "    \"\"\"\n",
    "    Extract and display the version and date metadata from an MTGJSON dataset,\n",
    "    and return this information as a DataFrame along with the JSON type.\n",
    "\n",
    "    Parameters\n",
    "    ----------\n",
    "    data : dict\n",
    "        MTGJSON data loaded from a JSON file, expected to contain a 'meta' key\n",
    "        with 'date' and 'version' fields.\n",
    "\n",
    "    json_type : str\n",
    "        A string indicating the type or name of the JSON dataset being processed.\n",
    "        This will be included in the output DataFrame.\n",
    "\n",
    "    Returns\n",
    "    -------\n",
    "    pd.DataFrame\n",
    "        A DataFrame with a single row and columns:\n",
    "        - 'json_type': The provided JSON dataset type/name.\n",
    "        - 'latest_date': The date the MTGJSON data was last updated.\n",
    "        - 'latest_version': The MTGJSON model version.\n",
    "    \"\"\"\n",
    "\n",
    "    # Create a DataFrame for the output\n",
    "    df = pd.DataFrame({'json_type'      : [json_type]\n",
    "                      ,'latest_date'    : [data['meta']['date']]\n",
    "                      ,'latest_version' : [data['meta']['version']]})\n",
    "\n",
    "    # Returning the values directly\n",
    "    return(df)"
   ]
  },
  {
   "cell_type": "code",
   "execution_count": 3,
   "metadata": {},
   "outputs": [],
   "source": [
    "# Function for uploading the recency check\n",
    "\n",
    "def recency_check_upload(schema_name, table_name, dataframe):\n",
    "    \n",
    "    \"\"\"\n",
    "    Uploads recency check data from a Pandas DataFrame into a PostgreSQL table \n",
    "    with upsert (insert or update) logic.\n",
    "\n",
    "    Each row from the DataFrame is inserted into the target table. If a row with the \n",
    "    same `json_type` (primary key) already exists, the corresponding `latest_date` \n",
    "    and `latest_version` values are updated instead.\n",
    "\n",
    "    Parameters\n",
    "    ----------\n",
    "    schema_name : str\n",
    "        Name of the PostgreSQL schema where the table resides.\n",
    "    table_name : str\n",
    "        Name of the PostgreSQL table to update or insert into.\n",
    "    dataframe : pandas.DataFrame\n",
    "        DataFrame containing the recency check data with columns:\n",
    "        - \"json_type\" (str): Identifier for the JSON file type.\n",
    "        - \"latest_date\" (datetime.date): Date of the latest file.\n",
    "        - \"latest_version\" (str): Version string of the latest file.\n",
    "\n",
    "    Notes\n",
    "    -----\n",
    "    - Requires a global SQLAlchemy `engine` object to be defined.\n",
    "    - Uses PostgreSQL's ON CONFLICT clause for upsert behavior.\n",
    "    \"\"\"\n",
    "\n",
    "    # Create a MetaData object\n",
    "    metadata = MetaData(schema=schema_name)\n",
    "    \n",
    "    # Define the Table object matching your PostgreSQL table\n",
    "    json_recency_table = Table(table_name\n",
    "                              ,metadata\n",
    "                              ,Column(\"json_type\" ,Text ,primary_key = True)\n",
    "                              ,Column(\"latest_date\" ,Date)\n",
    "                              ,Column(\"latest_version\" ,Text))\n",
    "    \n",
    "    # Upsert each row from your DataFrame\n",
    "    with engine.begin() as conn:\n",
    "        \n",
    "        # Iterate through rows of the DataFrame\n",
    "        for _, row in dataframe.iterrows():\n",
    "            \n",
    "            # Create an insert statement for the current row\n",
    "            stmt = insert(json_recency_table).values(json_type      = row[\"json_type\"]\n",
    "                                                    ,latest_date    = row[\"latest_date\"]\n",
    "                                                    ,latest_version = row[\"latest_version\"])\n",
    "            \n",
    "            # Add upsert logic to update on conflict\n",
    "            stmt = stmt.on_conflict_do_update(index_elements = [\"json_type\"]\n",
    "                                             ,set_           = {\"latest_date\"    : row[\"latest_date\"]\n",
    "                                                               ,\"latest_version\" : row[\"latest_version\"]})\n",
    "            \n",
    "            # Execute the statement\n",
    "            conn.execute(stmt)"
   ]
  },
  {
   "cell_type": "markdown",
   "metadata": {},
   "source": [
    "## Input"
   ]
  },
  {
   "cell_type": "markdown",
   "metadata": {},
   "source": [
    "### All printings Schema\n",
    "\n",
    "| Column           | Renamed   | Dataype | Description                                              |\n",
    "| ---              | ---       | ---     | ---                                                      |\n",
    "| data             | set       | STRING  | A list of ability words found in rules text on cards     |\n",
    "| keywordAbilities | keywords  | STRING  | A list of keyword abilities found in rules text on cards |\n",
    "| keywordActions   | actions   | STRING  | A list of keyword actiona found in rules text on cards   |"
   ]
  },
  {
   "cell_type": "code",
   "execution_count": null,
   "metadata": {},
   "outputs": [
    {
     "name": "stderr",
     "output_type": "stream",
     "text": [
      "Downloading: 100%|██████████| 128M/128M [00:03<00:00, 39.8MB/s] \n"
     ]
    }
   ],
   "source": [
    "# URL for the MTGJSON file (example: AllPrintings)\n",
    "url = \"https://mtgjson.com/api/v5/AllPrintings.json.gz\"\n",
    "\n",
    "# Stream download the file to track progress\n",
    "response = requests.get(url, stream=True)\n",
    "response.raise_for_status()\n",
    "\n",
    "# Prepare to track total size and read in chunks\n",
    "total_size = int(response.headers.get('content-length', 0))  # total bytes, may be None\n",
    "chunk_size = 1024 * 1024  # 1 MB per chunk\n",
    "compressed_data = bytearray()  # store the downloaded bytes\n",
    "\n",
    "# Iterate over response chunks, updating progress bar\n",
    "with tqdm(total=total_size, unit='B', unit_scale=True, desc=\"Downloading\") as pbar:\n",
    "    for chunk in response.iter_content(chunk_size=chunk_size):\n",
    "        if chunk:  # filter out keep-alive chunks\n",
    "            compressed_data.extend(chunk)\n",
    "            pbar.update(len(chunk))\n",
    "\n",
    "# Decompress the downloaded data and parse JSON into a dictionary\n",
    "dict__all_printings = json.loads(gzip.decompress(compressed_data))"
   ]
  },
  {
   "cell_type": "code",
   "execution_count": 5,
   "metadata": {},
   "outputs": [],
   "source": [
    "## Setting up credentials for accessing postgresql \"mtg_db\" database\n",
    "\n",
    "# Credentials for setting up connection to postgresql\n",
    "user     = \"postgres\"\n",
    "password = \"as:123bpostgresql\"\n",
    "host     = \"localhost\"\n",
    "port     = \"5432\"\n",
    "database = \"mtg_db\"\n",
    "\n",
    "# Engine connection to postgresql\n",
    "engine = create_engine(f\"postgresql+psycopg2://{user}:{password}@{host}:{port}/{database}\")"
   ]
  },
  {
   "cell_type": "code",
   "execution_count": 6,
   "metadata": {},
   "outputs": [],
   "source": [
    "## Creating the empty data_recency table if not exists\n",
    "query = \"CREATE TABLE IF NOT EXISTS raw_data.data_recency (\"\\\n",
    "        \" json_type      TEXT PRIMARY KEY\"\\\n",
    "        \",latest_date    DATE\"\\\n",
    "        \",latest_version TEXT);\"\n",
    "with engine.begin() as conn:\n",
    "    conn.execute(text(query))"
   ]
  },
  {
   "cell_type": "markdown",
   "metadata": {},
   "source": [
    "## Pre-processing"
   ]
  },
  {
   "cell_type": "code",
   "execution_count": 9,
   "metadata": {},
   "outputs": [],
   "source": [
    "# Checking the latest version of the input data\n",
    "df__data_recency = data_recency_check(dict__all_printings, 'all printings')"
   ]
  },
  {
   "cell_type": "markdown",
   "metadata": {},
   "source": [
    "## Main Code"
   ]
  },
  {
   "cell_type": "code",
   "execution_count": 16,
   "metadata": {},
   "outputs": [
    {
     "data": {
      "text/plain": [
       "dict_keys(['10E', '2ED', '2X2', '2XM', '30A', '3ED', '40K', '4BB', '4ED', '5DN', '5ED', '6ED', '7ED', '8ED', '9ED', 'A25', 'AA1', 'AA2', 'AACR', 'AAFR', 'ABLB', 'ABRO', 'ACLB', 'ACMM', 'ACR', 'ADFT', 'ADMU', 'ADSK', 'AEOE', 'AER', 'AFC', 'AFDN', 'AFIN', 'AFR', 'AINR', 'AJMP', 'AKH', 'AKHM', 'AKR', 'ALA', 'ALCI', 'ALL', 'ALTC', 'ALTR', 'AMH1', 'AMH2', 'AMH3', 'AMID', 'AMKM', 'AMOM', 'ANA', 'ANB', 'ANEO', 'AONE', 'AOTJ', 'APC', 'ARB', 'ARC', 'ARN', 'ASNC', 'ASTX', 'ATDM', 'ATH', 'ATQ', 'AVOW', 'AVR', 'AWOE', 'AZNR', 'BBD', 'BCHR', 'BFZ', 'BIG', 'BLB', 'BLC', 'BNG', 'BOK', 'BOT', 'BRB', 'BRC', 'BRO', 'BRR', 'BTD', 'C13', 'C14', 'C15', 'C16', 'C17', 'C18', 'C19', 'C20', 'C21', 'CC1', 'CC2', 'CED', 'CEI', 'CHK', 'CHR', 'CLB', 'CLU', 'CM1', 'CM2', 'CMA', 'CMB1', 'CMB2', 'CMD', 'CMM', 'CMR', 'CN2', 'CNS', 'CON', 'CP1', 'CP2', 'CP3', 'CSP', 'CST', 'DBL', 'DCI', 'DD1', 'DD2', 'DD3', 'DDC', 'DDD', 'DDE', 'DDF', 'DDG', 'DDH', 'DDI', 'DDJ', 'DDK', 'DDL', 'DDM', 'DDN', 'DDO', 'DDP', 'DDQ', 'DDR', 'DDS', 'DDT', 'DDU', 'DFT', 'DGM', 'DIS', 'DKA', 'DKM', 'DMC', 'DMR', 'DMU', 'DOM', 'DPA', 'DRB', 'DRC', 'DRK', 'DSC', 'DSK', 'DST', 'DTK', 'DVD', 'E01', 'E02', 'EA1', 'EA2', 'EA3', 'ELD', 'EMA', 'EMN', 'EOC', 'EOE', 'EOS', 'EVE', 'EVG', 'EXO', 'EXP', 'F01', 'F02', 'F03', 'F04', 'F05', 'F06', 'F07', 'F08', 'F09', 'F10', 'F11', 'F12', 'F13', 'F14', 'F15', 'F16', 'F17', 'F18', 'FBB', 'FBRO', 'FCA', 'FCLU', 'FDC', 'FDMU', 'FDN', 'FEM', 'FFDN', 'FIC', 'FIN', 'FJ22', 'FJ25', 'FJMP', 'FLTR', 'FMOM', 'FNM', 'FONE', 'FRF', 'FTLA', 'FUT', 'G00', 'G01', 'G02', 'G03', 'G04', 'G05', 'G06', 'G07', 'G08', 'G09', 'G10', 'G11', 'G17', 'G18', 'G99', 'GDY', 'GK1', 'GK2', 'GN2', 'GN3', 'GNT', 'GPT', 'GRN', 'GS1', 'GTC', 'GVL', 'H09', 'H17', 'H1R', 'H2R', 'HA1', 'HA2', 'HA3', 'HA4', 'HA5', 'HA6', 'HA7', 'HBG', 'HHO', 'HML', 'HOP', 'HOU', 'ICE', 'IKO', 'IMA', 'INR', 'INV', 'ISD', 'ITP', 'J12', 'J13', 'J14', 'J15', 'J16', 'J17', 'J18', 'J19', 'J20', 'J21', 'J22', 'J25', 'JGP', 'JMP', 'JOU', 'JP1', 'JUD', 'JVC', 'KHC', 'KHM', 'KLD', 'KLR', 'KTK', 'L12', 'L13', 'L14', 'L15', 'L16', 'L17', 'LCC', 'LCI', 'LEA', 'LEB', 'LEG', 'LGN', 'LRW', 'LTC', 'LTR', 'M10', 'M11', 'M12', 'M13', 'M14', 'M15', 'M19', 'M20', 'M21', 'M3C', 'MACR', 'MAFR', 'MAR', 'MAT', 'MB1', 'MB2', 'MBRO', 'MBS', 'MCLB', 'MD1', 'MDMU', 'ME1', 'ME2', 'ME3', 'ME4', 'MED', 'MGB', 'MH1', 'MH2', 'MH3', 'MIC', 'MID', 'MIR', 'MKC', 'MKHM', 'MKM', 'MLTR', 'MM2', 'MM3', 'MMA', 'MMH2', 'MMID', 'MMQ', 'MNEO', 'MOC', 'MOM', 'MONE', 'MOR', 'MP2', 'MPR', 'MPS', 'MRD', 'MSNC', 'MSTX', 'MUL', 'MVOW', 'MZNR', 'NCC', 'NEC', 'NEM', 'NEO', 'NPH', 'O90P', 'OAFC', 'OAFR', 'OANA', 'OARC', 'OC13', 'OC14', 'OC15', 'OC16', 'OC17', 'OC18', 'OC19', 'OC20', 'OC21', 'OCLB', 'OCM1', 'OCMD', 'ODY', 'OE01', 'OGW', 'OHOP', 'OLEP', 'OLGC', 'OMIC', 'ONC', 'ONE', 'ONS', 'OPC2', 'OPCA', 'ORI', 'OTC', 'OTJ', 'OTP', 'OVNT', 'OVOC', 'P02', 'P03', 'P04', 'P05', 'P06', 'P07', 'P08', 'P09', 'P10', 'P10E', 'P11', 'P15A', 'P22', 'P23', 'P2HG', 'P30A', 'P30H', 'P30M', 'P30T', 'P5DN', 'P8ED', 'P9ED', 'PA1', 'PAER', 'PAFR', 'PAKH', 'PAL00', 'PAL01', 'PAL02', 'PAL03', 'PAL04', 'PAL05', 'PAL06', 'PAL99', 'PALA', 'PALP', 'PANA', 'PAPC', 'PARB', 'PARL', 'PAST', 'PAVR', 'PBBD', 'PBFZ', 'PBIG', 'PBLB', 'PBNG', 'PBOK', 'PBRO', 'PC2', 'PCA', 'PCBB', 'PCEL', 'PCHK', 'PCLB', 'PCMD', 'PCMP', 'PCMR', 'PCNS', 'PCON', 'PCSP', 'PCY', 'PD2', 'PD3', 'PDFT', 'PDGM', 'PDIS', 'PDKA', 'PDMU', 'PDOM', 'PDP10', 'PDP12', 'PDP13', 'PDP14', 'PDP15', 'PDRC', 'PDSK', 'PDST', 'PDTK', 'PDTP', 'PELD', 'PELP', 'PEMN', 'PEOE', 'PEVE', 'PEWK', 'PEXO', 'PF19', 'PF20', 'PF23', 'PF24', 'PF25', 'PFDN', 'PFIN', 'PFRF', 'PFUT', 'PGPT', 'PGPX', 'PGRN', 'PGRU', 'PGTC', 'PH17', 'PH18', 'PH19', 'PH20', 'PH21', 'PH22', 'PH23', 'PHEL', 'PHOP', 'PHOU', 'PHPR', 'PHTR', 'PHUK', 'PIDW', 'PIKO', 'PINV', 'PIO', 'PIP', 'PISD', 'PJ21', 'PJAS', 'PJJT', 'PJOU', 'PJSC', 'PJSE', 'PJUD', 'PKHM', 'PKLD', 'PKTK', 'PL21', 'PL22', 'PL23', 'PL24', 'PL25', 'PLC', 'PLCI', 'PLG20', 'PLG21', 'PLG22', 'PLG24', 'PLG25', 'PLGM', 'PLGN', 'PLNY', 'PLRW', 'PLS', 'PLST', 'PLTC', 'PLTR', 'PM10', 'PM11', 'PM12', 'PM13', 'PM14', 'PM15', 'PM19', 'PM20', 'PM21', 'PMAT', 'PMBS', 'PMDA', 'PMEI', 'PMH1', 'PMH2', 'PMH3', 'PMIC', 'PMID', 'PMKM', 'PMMQ', 'PMOA', 'PMOM', 'PMOR', 'PMPS', 'PMPS06', 'PMPS07', 'PMPS08', 'PMPS09', 'PMPS10', 'PMPS11', 'PMRD', 'PNAT', 'PNCC', 'PNEM', 'PNEO', 'PNPH', 'PODY', 'POGW', 'PONE', 'PONS', 'POR', 'PORI', 'POTJ', 'PPC1', 'PPCY', 'PPLC', 'PPLS', 'PPP1', 'PPRO', 'PPTK', 'PR2', 'PR23', 'PRAV', 'PRCQ', 'PRED', 'PRIX', 'PRM', 'PRNA', 'PROE', 'PRTR', 'PRW2', 'PRWK', 'PS11', 'PS14', 'PS15', 'PS16', 'PS17', 'PS18', 'PS19', 'PSAL', 'PSCG', 'PSDC', 'PSDG', 'PSHM', 'PSNC', 'PSOI', 'PSOK', 'PSOM', 'PSPL', 'PSPM', 'PSS1', 'PSS2', 'PSS3', 'PSS4', 'PSS5', 'PSSC', 'PSTH', 'PSTX', 'PSUS', 'PSVC', 'PTBRO', 'PTC', 'PTDM', 'PTDMU', 'PTG', 'PTHB', 'PTHS', 'PTK', 'PTKDF', 'PTMP', 'PTOR', 'PTSNC', 'PTSP', 'PTSR', 'PUDS', 'PULG', 'PUMA', 'PUNH', 'PURL', 'PUSG', 'PUST', 'PVAN', 'PVOW', 'PW11', 'PW12', 'PW21', 'PW22', 'PW23', 'PW24', 'PW25', 'PWAR', 'PWCS', 'PWOE', 'PWOR', 'PWOS', 'PWWK', 'PXLN', 'PXTC', 'PZ1', 'PZ2', 'PZEN', 'PZNR', 'Q01', 'Q02', 'Q03', 'Q04', 'Q05', 'Q06', 'Q07', 'Q08', 'RAV', 'REN', 'REX', 'RFIN', 'RIN', 'RIX', 'RNA', 'ROE', 'RQS', 'RTR', 'RVR', 'S00', 'S99', 'SBRO', 'SCD', 'SCG', 'SCH', 'SHM', 'SIR', 'SIS', 'SKHM', 'SLC', 'SLCI', 'SLD', 'SLP', 'SLU', 'SLX', 'SMH3', 'SMID', 'SMOM', 'SNC', 'SNEO', 'SOI', 'SOK', 'SOM', 'SPE', 'SPG', 'SPM', 'SS1', 'SS2', 'SS3', 'SSTX', 'STA', 'STH', 'STX', 'SUM', 'SUNF', 'SVOW', 'SZNR', 'TBTH', 'TD0', 'TD2', 'TDAG', 'TDC', 'TDM', 'TFTH', 'THB', 'THP1', 'THP2', 'THP3', 'THS', 'TLA', 'TLE', 'TMP', 'TOR', 'TPR', 'TSB', 'TSP', 'TSR', 'UDS', 'UGIN', 'UGL', 'ULG', 'ULST', 'UMA', 'UND', 'UNF', 'UNH', 'UNK', 'USG', 'UST', 'V09', 'V10', 'V11', 'V12', 'V13', 'V14', 'V15', 'V16', 'V17', 'VIS', 'VMA', 'VOC', 'VOW', 'W16', 'W17', 'WAR', 'WC00', 'WC01', 'WC02', 'WC03', 'WC04', 'WC97', 'WC98', 'WC99', 'WDMU', 'WHO', 'WMC', 'WMKM', 'WMOM', 'WOC', 'WOE', 'WONE', 'WOT', 'WTH', 'WWK', 'WWOE', 'XANA', 'XLN', 'YBLB', 'YBRO', 'YDFT', 'YDMU', 'YDSK', 'YEOE', 'YLCI', 'YMID', 'YMKM', 'YNEO', 'YONE', 'YOTJ', 'YSNC', 'YTDM', 'YWOE', 'ZEN', 'ZNC', 'ZNE', 'ZNR'])"
      ]
     },
     "execution_count": 16,
     "metadata": {},
     "output_type": "execute_result"
    }
   ],
   "source": [
    "dict__all_printings['data'].keys()"
   ]
  },
  {
   "cell_type": "code",
   "execution_count": 44,
   "metadata": {},
   "outputs": [
    {
     "data": {
      "text/html": [
       "<div>\n",
       "<style scoped>\n",
       "    .dataframe tbody tr th:only-of-type {\n",
       "        vertical-align: middle;\n",
       "    }\n",
       "\n",
       "    .dataframe tbody tr th {\n",
       "        vertical-align: top;\n",
       "    }\n",
       "\n",
       "    .dataframe thead th {\n",
       "        text-align: right;\n",
       "    }\n",
       "</style>\n",
       "<table border=\"1\" class=\"dataframe\">\n",
       "  <thead>\n",
       "    <tr style=\"text-align: right;\">\n",
       "      <th></th>\n",
       "      <th>KEY_NAME</th>\n",
       "      <th>DATA_TYPE</th>\n",
       "      <th>LENGTH</th>\n",
       "    </tr>\n",
       "  </thead>\n",
       "  <tbody>\n",
       "    <tr>\n",
       "      <th>0</th>\n",
       "      <td>baseSetSize</td>\n",
       "      <td>int</td>\n",
       "      <td>0</td>\n",
       "    </tr>\n",
       "    <tr>\n",
       "      <th>1</th>\n",
       "      <td>block</td>\n",
       "      <td>str</td>\n",
       "      <td>0</td>\n",
       "    </tr>\n",
       "    <tr>\n",
       "      <th>2</th>\n",
       "      <td>booster</td>\n",
       "      <td>dict</td>\n",
       "      <td>1</td>\n",
       "    </tr>\n",
       "    <tr>\n",
       "      <th>3</th>\n",
       "      <td>cards</td>\n",
       "      <td>list</td>\n",
       "      <td>510</td>\n",
       "    </tr>\n",
       "    <tr>\n",
       "      <th>4</th>\n",
       "      <td>cardsphereSetId</td>\n",
       "      <td>int</td>\n",
       "      <td>0</td>\n",
       "    </tr>\n",
       "    <tr>\n",
       "      <th>5</th>\n",
       "      <td>code</td>\n",
       "      <td>str</td>\n",
       "      <td>0</td>\n",
       "    </tr>\n",
       "    <tr>\n",
       "      <th>6</th>\n",
       "      <td>decks</td>\n",
       "      <td>list</td>\n",
       "      <td>17</td>\n",
       "    </tr>\n",
       "    <tr>\n",
       "      <th>7</th>\n",
       "      <td>isFoilOnly</td>\n",
       "      <td>bool</td>\n",
       "      <td>0</td>\n",
       "    </tr>\n",
       "    <tr>\n",
       "      <th>8</th>\n",
       "      <td>isOnlineOnly</td>\n",
       "      <td>bool</td>\n",
       "      <td>0</td>\n",
       "    </tr>\n",
       "    <tr>\n",
       "      <th>9</th>\n",
       "      <td>keyruneCode</td>\n",
       "      <td>str</td>\n",
       "      <td>0</td>\n",
       "    </tr>\n",
       "    <tr>\n",
       "      <th>10</th>\n",
       "      <td>languages</td>\n",
       "      <td>list</td>\n",
       "      <td>9</td>\n",
       "    </tr>\n",
       "    <tr>\n",
       "      <th>11</th>\n",
       "      <td>mcmId</td>\n",
       "      <td>int</td>\n",
       "      <td>0</td>\n",
       "    </tr>\n",
       "    <tr>\n",
       "      <th>12</th>\n",
       "      <td>mcmName</td>\n",
       "      <td>str</td>\n",
       "      <td>0</td>\n",
       "    </tr>\n",
       "    <tr>\n",
       "      <th>13</th>\n",
       "      <td>mtgoCode</td>\n",
       "      <td>str</td>\n",
       "      <td>0</td>\n",
       "    </tr>\n",
       "    <tr>\n",
       "      <th>14</th>\n",
       "      <td>name</td>\n",
       "      <td>str</td>\n",
       "      <td>0</td>\n",
       "    </tr>\n",
       "    <tr>\n",
       "      <th>15</th>\n",
       "      <td>releaseDate</td>\n",
       "      <td>str</td>\n",
       "      <td>0</td>\n",
       "    </tr>\n",
       "    <tr>\n",
       "      <th>16</th>\n",
       "      <td>sealedProduct</td>\n",
       "      <td>list</td>\n",
       "      <td>19</td>\n",
       "    </tr>\n",
       "    <tr>\n",
       "      <th>17</th>\n",
       "      <td>tcgplayerGroupId</td>\n",
       "      <td>int</td>\n",
       "      <td>0</td>\n",
       "    </tr>\n",
       "    <tr>\n",
       "      <th>18</th>\n",
       "      <td>tokenSetCode</td>\n",
       "      <td>str</td>\n",
       "      <td>0</td>\n",
       "    </tr>\n",
       "    <tr>\n",
       "      <th>19</th>\n",
       "      <td>tokens</td>\n",
       "      <td>list</td>\n",
       "      <td>6</td>\n",
       "    </tr>\n",
       "    <tr>\n",
       "      <th>20</th>\n",
       "      <td>totalSetSize</td>\n",
       "      <td>int</td>\n",
       "      <td>0</td>\n",
       "    </tr>\n",
       "    <tr>\n",
       "      <th>21</th>\n",
       "      <td>translations</td>\n",
       "      <td>dict</td>\n",
       "      <td>10</td>\n",
       "    </tr>\n",
       "    <tr>\n",
       "      <th>22</th>\n",
       "      <td>type</td>\n",
       "      <td>str</td>\n",
       "      <td>0</td>\n",
       "    </tr>\n",
       "  </tbody>\n",
       "</table>\n",
       "</div>"
      ],
      "text/plain": [
       "            KEY_NAME DATA_TYPE  LENGTH\n",
       "0        baseSetSize       int       0\n",
       "1              block       str       0\n",
       "2            booster      dict       1\n",
       "3              cards      list     510\n",
       "4    cardsphereSetId       int       0\n",
       "5               code       str       0\n",
       "6              decks      list      17\n",
       "7         isFoilOnly      bool       0\n",
       "8       isOnlineOnly      bool       0\n",
       "9        keyruneCode       str       0\n",
       "10         languages      list       9\n",
       "11             mcmId       int       0\n",
       "12           mcmName       str       0\n",
       "13          mtgoCode       str       0\n",
       "14              name       str       0\n",
       "15       releaseDate       str       0\n",
       "16     sealedProduct      list      19\n",
       "17  tcgplayerGroupId       int       0\n",
       "18      tokenSetCode       str       0\n",
       "19            tokens      list       6\n",
       "20      totalSetSize       int       0\n",
       "21      translations      dict      10\n",
       "22              type       str       0"
      ]
     },
     "execution_count": 44,
     "metadata": {},
     "output_type": "execute_result"
    }
   ],
   "source": [
    "print_dict_structure(dict__all_printings['data']['10E'], max_depth=1)"
   ]
  },
  {
   "cell_type": "code",
   "execution_count": 55,
   "metadata": {},
   "outputs": [
    {
     "data": {
      "text/plain": [
       "'Tenth Edition Draft Booster'"
      ]
     },
     "execution_count": 55,
     "metadata": {},
     "output_type": "execute_result"
    }
   ],
   "source": [
    "dict__all_printings['data']['10E']['booster']['draft']['name']"
   ]
  },
  {
   "cell_type": "code",
   "execution_count": null,
   "metadata": {},
   "outputs": [],
   "source": [
    "## Converting the dictionary to a dataframe, renaming the columns and making empty values empty strings\n",
    "\n",
    "# Converting the json dictionary to a dataframe\n",
    "df__keywords = pd.DataFrame.from_dict(dict__all_printings['data']\n",
    "                                     # The columns are different lengths\n",
    "                                     ,orient = 'index').transpose()\n",
    "\n",
    "# Renaming the columns\n",
    "df__keywords.columns = ['abilities'\n",
    "                       ,'keywords'\n",
    "                       ,'actions']\n",
    "\n",
    "# Sort each column independently, pushing NaNs and empty strings to the bottom\n",
    "df__keywords = df__keywords.apply(lambda col: col.replace('', np.nan)             # Treat empty strings as NaN\n",
    "                                                 .sort_values(na_position='last') # Sort values\n",
    "                                                 .fillna('')                      # Put empty strings back if desired\n",
    "                                                 .values)                         # Reset index"
   ]
  },
  {
   "cell_type": "markdown",
   "metadata": {},
   "source": [
    "## Output"
   ]
  },
  {
   "cell_type": "code",
   "execution_count": 10,
   "metadata": {},
   "outputs": [],
   "source": [
    "recency_check_upload(schema_name = \"raw_data\"\n",
    "                    ,table_name  = \"data_recency\"\n",
    "                    ,dataframe   = df__data_recency)"
   ]
  },
  {
   "cell_type": "code",
   "execution_count": 11,
   "metadata": {},
   "outputs": [
    {
     "data": {
      "text/plain": [
       "212"
      ]
     },
     "execution_count": 11,
     "metadata": {},
     "output_type": "execute_result"
    }
   ],
   "source": [
    "# Uploading the keywords dataframe to postgresql\n",
    "df__keywords.to_sql(name      = 'keywords'\n",
    "                   ,con       = engine\n",
    "                   ,schema    = 'raw_data'\n",
    "                   ,if_exists = 'replace'\n",
    "                   ,index     = False)"
   ]
  },
  {
   "cell_type": "markdown",
   "metadata": {},
   "source": [
    "## Checks"
   ]
  },
  {
   "cell_type": "code",
   "execution_count": 17,
   "metadata": {},
   "outputs": [
    {
     "data": {
      "text/html": [
       "<div>\n",
       "<style scoped>\n",
       "    .dataframe tbody tr th:only-of-type {\n",
       "        vertical-align: middle;\n",
       "    }\n",
       "\n",
       "    .dataframe tbody tr th {\n",
       "        vertical-align: top;\n",
       "    }\n",
       "\n",
       "    .dataframe thead th {\n",
       "        text-align: right;\n",
       "    }\n",
       "</style>\n",
       "<table border=\"1\" class=\"dataframe\">\n",
       "  <thead>\n",
       "    <tr style=\"text-align: right;\">\n",
       "      <th></th>\n",
       "      <th>json_type</th>\n",
       "      <th>latest_date</th>\n",
       "      <th>latest_version</th>\n",
       "    </tr>\n",
       "  </thead>\n",
       "  <tbody>\n",
       "    <tr>\n",
       "      <th>0</th>\n",
       "      <td>keyword</td>\n",
       "      <td>2025-08-19</td>\n",
       "      <td>5.2.2+20250819</td>\n",
       "    </tr>\n",
       "  </tbody>\n",
       "</table>\n",
       "</div>"
      ],
      "text/plain": [
       "  json_type latest_date  latest_version\n",
       "0   keyword  2025-08-19  5.2.2+20250819"
      ]
     },
     "execution_count": 17,
     "metadata": {},
     "output_type": "execute_result"
    }
   ],
   "source": [
    "# Check the json file date and version\n",
    "query = \"\"\"\n",
    "        SELECT *\n",
    "        FROM raw_data.data_recency\n",
    "        WHERE json_type = 'keyword'\n",
    "        \"\"\"\n",
    "pd.read_sql_query(query, con=engine)"
   ]
  },
  {
   "cell_type": "code",
   "execution_count": 18,
   "metadata": {},
   "outputs": [
    {
     "data": {
      "text/html": [
       "<div>\n",
       "<style scoped>\n",
       "    .dataframe tbody tr th:only-of-type {\n",
       "        vertical-align: middle;\n",
       "    }\n",
       "\n",
       "    .dataframe tbody tr th {\n",
       "        vertical-align: top;\n",
       "    }\n",
       "\n",
       "    .dataframe thead th {\n",
       "        text-align: right;\n",
       "    }\n",
       "</style>\n",
       "<table border=\"1\" class=\"dataframe\">\n",
       "  <thead>\n",
       "    <tr style=\"text-align: right;\">\n",
       "      <th></th>\n",
       "      <th>abilities</th>\n",
       "      <th>keywords</th>\n",
       "      <th>actions</th>\n",
       "    </tr>\n",
       "  </thead>\n",
       "  <tbody>\n",
       "    <tr>\n",
       "      <th>0</th>\n",
       "      <td>Adamant</td>\n",
       "      <td>Absorb</td>\n",
       "      <td>Abandon</td>\n",
       "    </tr>\n",
       "    <tr>\n",
       "      <th>1</th>\n",
       "      <td>Addendum</td>\n",
       "      <td>Affinity</td>\n",
       "      <td>Activate</td>\n",
       "    </tr>\n",
       "    <tr>\n",
       "      <th>2</th>\n",
       "      <td>Alliance</td>\n",
       "      <td>Afflict</td>\n",
       "      <td>Adapt</td>\n",
       "    </tr>\n",
       "    <tr>\n",
       "      <th>3</th>\n",
       "      <td>Battalion</td>\n",
       "      <td>Afterlife</td>\n",
       "      <td>Amass</td>\n",
       "    </tr>\n",
       "    <tr>\n",
       "      <th>4</th>\n",
       "      <td>Bloodrush</td>\n",
       "      <td>Aftermath</td>\n",
       "      <td>Assemble</td>\n",
       "    </tr>\n",
       "    <tr>\n",
       "      <th>5</th>\n",
       "      <td>Celebration</td>\n",
       "      <td>Amplify</td>\n",
       "      <td>Attach</td>\n",
       "    </tr>\n",
       "    <tr>\n",
       "      <th>6</th>\n",
       "      <td>Channel</td>\n",
       "      <td>Annihilator</td>\n",
       "      <td>Behold</td>\n",
       "    </tr>\n",
       "    <tr>\n",
       "      <th>7</th>\n",
       "      <td>Chroma</td>\n",
       "      <td>Ascend</td>\n",
       "      <td>Bolster</td>\n",
       "    </tr>\n",
       "    <tr>\n",
       "      <th>8</th>\n",
       "      <td>Cohort</td>\n",
       "      <td>Assist</td>\n",
       "      <td>Cast</td>\n",
       "    </tr>\n",
       "    <tr>\n",
       "      <th>9</th>\n",
       "      <td>Constellation</td>\n",
       "      <td>Augment</td>\n",
       "      <td>Clash</td>\n",
       "    </tr>\n",
       "  </tbody>\n",
       "</table>\n",
       "</div>"
      ],
      "text/plain": [
       "       abilities     keywords   actions\n",
       "0        Adamant       Absorb   Abandon\n",
       "1       Addendum     Affinity  Activate\n",
       "2       Alliance      Afflict     Adapt\n",
       "3      Battalion    Afterlife     Amass\n",
       "4      Bloodrush    Aftermath  Assemble\n",
       "5    Celebration      Amplify    Attach\n",
       "6        Channel  Annihilator    Behold\n",
       "7         Chroma       Ascend   Bolster\n",
       "8         Cohort       Assist      Cast\n",
       "9  Constellation      Augment     Clash"
      ]
     },
     "execution_count": 18,
     "metadata": {},
     "output_type": "execute_result"
    }
   ],
   "source": [
    "# Check the dataframe top 10 values\n",
    "query = \"\"\"\n",
    "        SELECT *\n",
    "        FROM raw_data.keywords\n",
    "        LIMIT 10\n",
    "        \"\"\"\n",
    "pd.read_sql_query(query, con=engine)"
   ]
  }
 ],
 "metadata": {
  "hex_info": {
   "author": "Adam Brown",
   "exported_date": "Fri Aug 15 2025 20:57:54 GMT+0000 (Coordinated Universal Time)",
   "project_id": "01982c18-3640-7001-8127-b56bed0a428f",
   "version": "draft"
  },
  "kernelspec": {
   "display_name": ".venv",
   "language": "python",
   "name": "python3"
  },
  "language_info": {
   "codemirror_mode": {
    "name": "ipython",
    "version": 3
   },
   "file_extension": ".py",
   "mimetype": "text/x-python",
   "name": "python",
   "nbconvert_exporter": "python",
   "pygments_lexer": "ipython3",
   "version": "3.12.3"
  },
  "orig_nbformat": 4
 },
 "nbformat": 4,
 "nbformat_minor": 4
}

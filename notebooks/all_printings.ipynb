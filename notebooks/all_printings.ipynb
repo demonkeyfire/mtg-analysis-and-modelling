{
 "cells": [
  {
   "cell_type": "markdown",
   "metadata": {},
   "source": [
    "# All Printings Table"
   ]
  },
  {
   "cell_type": "markdown",
   "metadata": {},
   "source": [
    "## Introduction"
   ]
  },
  {
   "cell_type": "markdown",
   "metadata": {},
   "source": [
    "The purpose of this notebook is to process and upload all card data from MTGJSON into the postgresql database mtg_db. This is done through the following steps:\n",
    "- Download the json file from MTGJSON's file server\n",
    "- Check the version and date of the json file\n",
    "- Pre-process the dictionary and convert it into a dataframe\n",
    "- Push the keywords dataframe to the database \"raw_data\" schema"
   ]
  },
  {
   "cell_type": "markdown",
   "metadata": {},
   "source": [
    "## Schemas"
   ]
  },
  {
   "cell_type": "markdown",
   "metadata": {},
   "source": [
    "Set List Schema - Main table\n",
    "\n",
    "| Column            | Renamed         | Dataype    | Description                                                                |\n",
    "| ---               | ---             | ---        | ---                                                                        |\n",
    "| code              | SET_CODE        | STRING     | The set code                                                               |\n",
    "| name              | SET_NAME        | STRING     | Name of the set                                                            |\n",
    "| baseSetSize       | BASE_SET_SIZE   | INTEGER    | The number of cards in the base set without promos or supplements          |\n",
    "| booster           | BOOSTERS\n",
    "| cardsphereSetId   | CS_SET_ID       | FLOAT      | ID for set in Cardsphere                                                   |\n",
    "| mcmId             | CM_ID           | FLOAT      | Card Market set ID                                                         |\n",
    "| mcmIdExtras       | CM_ID_ADD       | FLOAT      | If the set is split into two sets this is the additional Card Market ID    |\n",
    "| mcmName           | CM_NAME         | STRING     | Name of the set on Card Market                                             |\n",
    "| isFoilOnly        | FOIL_FLAG       | BOOLEAN    | Flag whether the set is only available as foils                            |\n",
    "| isForeignOnly     | FOREIGN_FLAG    | BOOLEAN    | Flag whether the set is only available outside the US                      |\n",
    "| keyruneCode       | KEYRUNE_CODE    | STRING     | ID for the keyrune database of set icons                                   |\n",
    "| languages         | LANGUAGES       | LIST       | List of languages the set was printed in                                   |\n",
    "| mtgoCode          | MTGO_SET_CODE   | STRING     | Set code on Magic The Gathering Online                                     |\n",
    "| isNonFoilOnly     | NON_FOIL_FLAG   | BOOLEAN    | Flag whether the set is only available as non-foils                        |\n",
    "| isOnlineOnly      | ONLINE_FLAG     | BOOLEAN    | Flag whether the set is only available in online formats                   |\n",
    "| isPartialPreview  | PREVIEW_FLAG    | BOOLEAN    | Flag whether the set is still in preview and not complete                  |\n",
    "| sealedProduct     | PRODUCT_INFO    | LIST       | Information about the purchasable sealed product                           |\n",
    "| releaseDate       | RELEASE_DATE    | STRING     | Date the set was release, in format YYYY-MM-DD                             |\n",
    "| block             | SET_BLOCK_NAME  | STRING     | Block the set is in, e.g. Kaladesh                                         |\n",
    "| decks             | SET_DECKS       | LIST       | All decks associated with the set                                          |\n",
    "| parentCode        | SET_PARENT_CODE | STRING     | Code of the parent set for set variations, e.g. promotions, guild kits etc |\n",
    "| tokenSetCode      | SET_TOKEN_CODE  | STRING     | Code for the set's tokens                                                  |\n",
    "| type              | SET_TYPE        | STRING     | The type of set, e.g. alchemy, commander, funny                            |\n",
    "| tcgplayerGroupId  | TCGPG_ID        | INTEGER    | ID for the set on TCGplayer                                                |\n",
    "| totalSetSize      | TOTAL_SET_SIZE  | INTEGER    | The number opf cards in the set with promos and supplements                |\n",
    "| translations      | TRANSLATIONS    | DICTIONARY | The translated name of the set                                             |"
   ]
  },
  {
   "cell_type": "markdown",
   "metadata": {},
   "source": [
    "## Python Libraries"
   ]
  },
  {
   "cell_type": "code",
   "execution_count": 1,
   "metadata": {},
   "outputs": [],
   "source": [
    "import json\n",
    "import requests\n",
    "import lzma\n",
    "from   tqdm       import tqdm\n",
    "import numpy      as     np\n",
    "import pandas     as     pd\n",
    "from   sqlalchemy import create_engine, Table, Column, MetaData, Text, Date, text\n",
    "from   sqlalchemy.dialects.postgresql import insert"
   ]
  },
  {
   "cell_type": "code",
   "execution_count": 2,
   "metadata": {},
   "outputs": [],
   "source": [
    "# Show all columns instead of truncating with \"...\"\n",
    "pd.set_option(\"display.max_columns\", None)\n",
    "\n",
    "# (Optional) also show all rows\n",
    "pd.set_option(\"display.max_rows\", None)\n",
    "\n",
    "# (Optional) widen the display area so columns don’t wrap badly\n",
    "pd.set_option(\"display.width\", None)"
   ]
  },
  {
   "cell_type": "markdown",
   "metadata": {},
   "source": [
    "## Functions"
   ]
  },
  {
   "cell_type": "code",
   "execution_count": 3,
   "metadata": {},
   "outputs": [],
   "source": [
    "# Function for showing the data and version of the MTGJSON data\n",
    "def data_recency_check(data, json_type):\n",
    "\n",
    "    \"\"\"\n",
    "    Extract and display the version and date metadata from an MTGJSON dataset,\n",
    "    and return this information as a DataFrame along with the JSON type.\n",
    "\n",
    "    Parameters\n",
    "    ----------\n",
    "    data : dict\n",
    "        MTGJSON data loaded from a JSON file, expected to contain a 'meta' key\n",
    "        with 'date' and 'version' fields.\n",
    "\n",
    "    json_type : str\n",
    "        A string indicating the type or name of the JSON dataset being processed.\n",
    "        This will be included in the output DataFrame.\n",
    "\n",
    "    Returns\n",
    "    -------\n",
    "    pd.DataFrame\n",
    "        A DataFrame with a single row and columns:\n",
    "        - 'json_type': The provided JSON dataset type/name.\n",
    "        - 'latest_date': The date the MTGJSON data was last updated.\n",
    "        - 'latest_version': The MTGJSON model version.\n",
    "    \"\"\"\n",
    "\n",
    "    # Create a DataFrame for the output\n",
    "    df = pd.DataFrame({'json_type'      : [json_type]\n",
    "                      ,'latest_date'    : [data['meta']['date']]\n",
    "                      ,'latest_version' : [data['meta']['version']]})\n",
    "\n",
    "    # Returning the values directly\n",
    "    return(df)"
   ]
  },
  {
   "cell_type": "code",
   "execution_count": 4,
   "metadata": {},
   "outputs": [],
   "source": [
    "# Function for uploading the recency check\n",
    "\n",
    "def recency_check_upload(schema_name, table_name, dataframe):\n",
    "    \n",
    "    \"\"\"\n",
    "    Uploads recency check data from a Pandas DataFrame into a PostgreSQL table \n",
    "    with upsert (insert or update) logic.\n",
    "\n",
    "    Each row from the DataFrame is inserted into the target table. If a row with the \n",
    "    same `json_type` (primary key) already exists, the corresponding `latest_date` \n",
    "    and `latest_version` values are updated instead.\n",
    "\n",
    "    Parameters\n",
    "    ----------\n",
    "    schema_name : str\n",
    "        Name of the PostgreSQL schema where the table resides.\n",
    "    table_name : str\n",
    "        Name of the PostgreSQL table to update or insert into.\n",
    "    dataframe : pandas.DataFrame\n",
    "        DataFrame containing the recency check data with columns:\n",
    "        - \"json_type\" (str): Identifier for the JSON file type.\n",
    "        - \"latest_date\" (datetime.date): Date of the latest file.\n",
    "        - \"latest_version\" (str): Version string of the latest file.\n",
    "\n",
    "    Notes\n",
    "    -----\n",
    "    - Requires a global SQLAlchemy `engine` object to be defined.\n",
    "    - Uses PostgreSQL's ON CONFLICT clause for upsert behavior.\n",
    "    \"\"\"\n",
    "\n",
    "    # Create a MetaData object\n",
    "    metadata = MetaData(schema=schema_name)\n",
    "    \n",
    "    # Define the Table object matching your PostgreSQL table\n",
    "    json_recency_table = Table(table_name\n",
    "                              ,metadata\n",
    "                              ,Column(\"json_type\" ,Text ,primary_key = True)\n",
    "                              ,Column(\"latest_date\" ,Date)\n",
    "                              ,Column(\"latest_version\" ,Text))\n",
    "    \n",
    "    # Upsert each row from your DataFrame\n",
    "    with engine.begin() as conn:\n",
    "        \n",
    "        # Iterate through rows of the DataFrame\n",
    "        for _, row in dataframe.iterrows():\n",
    "            \n",
    "            # Create an insert statement for the current row\n",
    "            stmt = insert(json_recency_table).values(json_type      = row[\"json_type\"]\n",
    "                                                    ,latest_date    = row[\"latest_date\"]\n",
    "                                                    ,latest_version = row[\"latest_version\"])\n",
    "            \n",
    "            # Add upsert logic to update on conflict\n",
    "            stmt = stmt.on_conflict_do_update(index_elements = [\"json_type\"]\n",
    "                                             ,set_           = {\"latest_date\"    : row[\"latest_date\"]\n",
    "                                                               ,\"latest_version\" : row[\"latest_version\"]})\n",
    "            \n",
    "            # Execute the statement\n",
    "            conn.execute(stmt)"
   ]
  },
  {
   "cell_type": "code",
   "execution_count": 5,
   "metadata": {},
   "outputs": [],
   "source": [
    "# Function for showing the hierarchy of a dictionary or the schema of a single level\n",
    "def print_dict_structure(data, max_depth=None, _indent=0):\n",
    "\n",
    "    \"\"\"\n",
    "    Recursively prints the hierarchical structure of a dictionary or list,\n",
    "    including the length of each element where applicable.\n",
    "    \n",
    "    If max_depth=1, returns a DataFrame with columns: KEY_NAME, DATA_TYPE, LENGTH.\n",
    "    \n",
    "    Args:\n",
    "        data: The dictionary or list to explore.\n",
    "        max_depth: Limit how deep to traverse (None for full depth).\n",
    "    \n",
    "    Returns:\n",
    "        pd.DataFrame if max_depth=1, otherwise None (prints output).\n",
    "    \"\"\"\n",
    "    \n",
    "    # Check if we are at the top level and max_depth=1 to return DataFrame instead of printing\n",
    "    if max_depth == 1 and _indent == 0:\n",
    "        # Initialize list to collect rows for the DataFrame\n",
    "        rows = []\n",
    "\n",
    "        # If data is a dictionary, iterate over its keys and values\n",
    "        if isinstance(data, dict):\n",
    "            for key, value in data.items():\n",
    "                # Determine length if possible, otherwise set to 0\n",
    "                length = len(value) if hasattr(value, \"__len__\") and not isinstance(value, (str, bytes)) else 0\n",
    "                # Append a tuple of key name, data type, and length to rows\n",
    "                rows.append((key, type(value).__name__, length))\n",
    "\n",
    "        # If data is a list, take the first element (assumed dict) and do the same\n",
    "        elif isinstance(data, list) and data:\n",
    "            for key, value in data[0].items():\n",
    "                # Determine length if possible, otherwise set to 0\n",
    "                length = len(value) if hasattr(value, \"__len__\") and not isinstance(value, (str, bytes)) else 0\n",
    "                # Append a tuple of key name, data type, and length to rows\n",
    "                rows.append((key, type(value).__name__, length))\n",
    "\n",
    "        # Convert collected rows into a DataFrame with specific column names\n",
    "        return pd.DataFrame(rows, columns=[\"KEY_NAME\", \"DATA_TYPE\", \"LENGTH\"])\n",
    "    \n",
    "    # Create a prefix for indentation when printing nested structures\n",
    "    prefix = \"  \" * _indent\n",
    "\n",
    "    # If data is a dictionary, iterate recursively\n",
    "    if isinstance(data, dict):\n",
    "        for key, value in data.items():\n",
    "            # Prepare a string showing type and length for printing\n",
    "            length_info = f\", len={len(value)}\" if hasattr(value, \"__len__\") and not isinstance(value, (str, bytes)) else \"\"\n",
    "            # Print the key name, type, and length with proper indentation\n",
    "            print(f\"{prefix}{key} ({type(value).__name__}{length_info})\")\n",
    "            # Recurse into value if max_depth is not reached\n",
    "            if max_depth is None or _indent < max_depth - 1:\n",
    "                print_dict_structure(value, max_depth, _indent + 1)\n",
    "\n",
    "    # If data is a list, recurse into the first element (assuming homogeneous elements)\n",
    "    elif isinstance(data, list):\n",
    "        if data and (max_depth is None or _indent < max_depth - 1):\n",
    "            print_dict_structure(data[0], max_depth, _indent + 1)\n",
    "\n",
    "    # For non-dict and non-list elements, print their type and length\n",
    "    else:\n",
    "        # Prepare a string showing type and length for printing\n",
    "        length_info = f\", len={len(data)}\" if hasattr(data, \"__len__\") and not isinstance(data, (str, bytes)) else \"\"\n",
    "        # Print the type and length with proper indentation\n",
    "        print(f\"{prefix}{type(data).__name__}{length_info}\")"
   ]
  },
  {
   "cell_type": "markdown",
   "metadata": {},
   "source": [
    "## Input"
   ]
  },
  {
   "cell_type": "markdown",
   "metadata": {},
   "source": [
    "### Database Connection"
   ]
  },
  {
   "cell_type": "code",
   "execution_count": 6,
   "metadata": {},
   "outputs": [],
   "source": [
    "## Setting up credentials for accessing postgresql \"mtg_db\" database\n",
    "\n",
    "# Credentials for setting up connection to postgresql\n",
    "user     = \"postgres\"\n",
    "password = \"as:123bpostgresql\"\n",
    "host     = \"localhost\"\n",
    "port     = \"5432\"\n",
    "database = \"mtg_db\"\n",
    "\n",
    "# Engine connection to postgresql\n",
    "engine = create_engine(f\"postgresql+psycopg2://{user}:{password}@{host}:{port}/{database}\")"
   ]
  },
  {
   "cell_type": "code",
   "execution_count": 7,
   "metadata": {},
   "outputs": [],
   "source": [
    "## Creating the empty data_recency table if not exists\n",
    "query = \"\"\"\n",
    "        CREATE TABLE IF NOT EXISTS raw_data.data_recency (\n",
    "         json_type      TEXT PRIMARY KEY\n",
    "        ,latest_date    DATE\n",
    "        ,latest_version TEXT);\n",
    "        \"\"\"\n",
    "with engine.begin() as conn:\n",
    "    conn.execute(text(query))"
   ]
  },
  {
   "cell_type": "markdown",
   "metadata": {},
   "source": [
    "### Input Data"
   ]
  },
  {
   "cell_type": "code",
   "execution_count": 8,
   "metadata": {},
   "outputs": [
    {
     "name": "stderr",
     "output_type": "stream",
     "text": [
      "Downloading: 100%|██████████| 64.1M/64.1M [00:20<00:00, 3.07MB/s]\n"
     ]
    }
   ],
   "source": [
    "# URL for the MTGJSON file (example: AllPrintings)\n",
    "url = \"https://mtgjson.com/api/v5/AllPrintings.json.xz\"\n",
    "\n",
    "# Stream download the file to track progress\n",
    "response = requests.get(url, stream=True)\n",
    "response.raise_for_status()\n",
    "\n",
    "# Prepare to track total size and read in chunks\n",
    "total_size = int(response.headers.get('content-length', 0))  # total bytes, may be None\n",
    "chunk_size = 1024 * 1024  # 1 MB per chunk\n",
    "compressed_data = bytearray()  # store the downloaded bytes\n",
    "\n",
    "# Iterate over response chunks, updating progress bar\n",
    "with tqdm(total=total_size, unit='B', unit_scale=True, desc=\"Downloading\") as pbar:\n",
    "    for chunk in response.iter_content(chunk_size=chunk_size):\n",
    "        if chunk:  # filter out keep-alive chunks\n",
    "            compressed_data.extend(chunk)\n",
    "            pbar.update(len(chunk))\n",
    "\n",
    "# Decompress the .xz file from the bytes you collected\n",
    "decompressed_bytes = lzma.decompress(compressed_data)\n",
    "\n",
    "# Parse JSON into a dictionary\n",
    "dict__all_printings = json.loads(decompressed_bytes)"
   ]
  },
  {
   "cell_type": "markdown",
   "metadata": {},
   "source": [
    "## Pre-processing"
   ]
  },
  {
   "cell_type": "code",
   "execution_count": 9,
   "metadata": {},
   "outputs": [
    {
     "data": {
      "text/html": [
       "<div>\n",
       "<style scoped>\n",
       "    .dataframe tbody tr th:only-of-type {\n",
       "        vertical-align: middle;\n",
       "    }\n",
       "\n",
       "    .dataframe tbody tr th {\n",
       "        vertical-align: top;\n",
       "    }\n",
       "\n",
       "    .dataframe thead th {\n",
       "        text-align: right;\n",
       "    }\n",
       "</style>\n",
       "<table border=\"1\" class=\"dataframe\">\n",
       "  <thead>\n",
       "    <tr style=\"text-align: right;\">\n",
       "      <th></th>\n",
       "      <th>json_type</th>\n",
       "      <th>latest_date</th>\n",
       "      <th>latest_version</th>\n",
       "    </tr>\n",
       "  </thead>\n",
       "  <tbody>\n",
       "    <tr>\n",
       "      <th>0</th>\n",
       "      <td>all printings</td>\n",
       "      <td>2025-09-08</td>\n",
       "      <td>5.2.2+20250908</td>\n",
       "    </tr>\n",
       "  </tbody>\n",
       "</table>\n",
       "</div>"
      ],
      "text/plain": [
       "       json_type latest_date  latest_version\n",
       "0  all printings  2025-09-08  5.2.2+20250908"
      ]
     },
     "execution_count": 9,
     "metadata": {},
     "output_type": "execute_result"
    }
   ],
   "source": [
    "# Checking the latest version of the input data\n",
    "df__data_recency = data_recency_check(dict__all_printings, 'all printings')\n",
    "df__data_recency"
   ]
  },
  {
   "cell_type": "markdown",
   "metadata": {},
   "source": [
    "## Main Code"
   ]
  },
  {
   "cell_type": "code",
   "execution_count": 10,
   "metadata": {},
   "outputs": [
    {
     "name": "stderr",
     "output_type": "stream",
     "text": [
      "Processing sets: 100%|██████████| 826/826 [00:08<00:00, 96.62it/s] \n"
     ]
    }
   ],
   "source": [
    "## Converting the first layer of JSON dictionary into dataframe\n",
    "# Empty list for storing dataframes\n",
    "list__set_data = []\n",
    "\n",
    "# Listing the set codes\n",
    "list__set_codes = list(dict__all_printings['data'].keys())\n",
    "\n",
    "# Looping through the set codes making individual dataframes\n",
    "for set_code in tqdm(list__set_codes, desc=\"Processing sets\"):\n",
    "    df__set = pd.json_normalize(dict__all_printings['data'][set_code], max_level=0)\n",
    "    list__set_data.append(df__set)\n",
    "\n",
    "# Concatenate sets into single DataFrame\n",
    "df__sets = pd.concat(list__set_data, ignore_index=True)"
   ]
  },
  {
   "cell_type": "code",
   "execution_count": null,
   "metadata": {},
   "outputs": [],
   "source": [
    "# Dropping columns in the set "
   ]
  },
  {
   "cell_type": "code",
   "execution_count": 12,
   "metadata": {},
   "outputs": [
    {
     "name": "stdout",
     "output_type": "stream",
     "text": [
      "Index(['baseSetSize', 'block', 'booster', 'cards', 'cardsphereSetId', 'code',\n",
      "       'decks', 'isFoilOnly', 'isOnlineOnly', 'keyruneCode', 'languages',\n",
      "       'mcmId', 'mcmName', 'mtgoCode', 'name', 'releaseDate', 'sealedProduct',\n",
      "       'tcgplayerGroupId', 'tokenSetCode', 'tokens', 'totalSetSize',\n",
      "       'translations', 'type', 'isNonFoilOnly', 'mcmIdExtras', 'isForeignOnly',\n",
      "       'parentCode', 'isPartialPreview'],\n",
      "      dtype='object')\n"
     ]
    },
    {
     "data": {
      "text/html": [
       "<div>\n",
       "<style scoped>\n",
       "    .dataframe tbody tr th:only-of-type {\n",
       "        vertical-align: middle;\n",
       "    }\n",
       "\n",
       "    .dataframe tbody tr th {\n",
       "        vertical-align: top;\n",
       "    }\n",
       "\n",
       "    .dataframe thead th {\n",
       "        text-align: right;\n",
       "    }\n",
       "</style>\n",
       "<table border=\"1\" class=\"dataframe\">\n",
       "  <thead>\n",
       "    <tr style=\"text-align: right;\">\n",
       "      <th></th>\n",
       "      <th>baseSetSize</th>\n",
       "      <th>block</th>\n",
       "      <th>booster</th>\n",
       "      <th>cards</th>\n",
       "      <th>cardsphereSetId</th>\n",
       "      <th>code</th>\n",
       "      <th>decks</th>\n",
       "      <th>isFoilOnly</th>\n",
       "      <th>isOnlineOnly</th>\n",
       "      <th>keyruneCode</th>\n",
       "      <th>languages</th>\n",
       "      <th>mcmId</th>\n",
       "      <th>mcmName</th>\n",
       "      <th>mtgoCode</th>\n",
       "      <th>name</th>\n",
       "      <th>releaseDate</th>\n",
       "      <th>sealedProduct</th>\n",
       "      <th>tcgplayerGroupId</th>\n",
       "      <th>tokenSetCode</th>\n",
       "      <th>tokens</th>\n",
       "      <th>totalSetSize</th>\n",
       "      <th>translations</th>\n",
       "      <th>type</th>\n",
       "      <th>isNonFoilOnly</th>\n",
       "      <th>mcmIdExtras</th>\n",
       "      <th>isForeignOnly</th>\n",
       "      <th>parentCode</th>\n",
       "      <th>isPartialPreview</th>\n",
       "    </tr>\n",
       "  </thead>\n",
       "  <tbody>\n",
       "    <tr>\n",
       "      <th>0</th>\n",
       "      <td>383</td>\n",
       "      <td>Core Set</td>\n",
       "      <td>{'draft': {'boosters': [{'contents': {'basic':...</td>\n",
       "      <td>[{'artist': 'Pete Venters', 'artistIds': ['d54...</td>\n",
       "      <td>755.0</td>\n",
       "      <td>10E</td>\n",
       "      <td>[{'code': '10E', 'commander': [], 'displayComm...</td>\n",
       "      <td>False</td>\n",
       "      <td>False</td>\n",
       "      <td>10E</td>\n",
       "      <td>[Chinese Simplified, English, French, German, ...</td>\n",
       "      <td>74.0</td>\n",
       "      <td>Tenth Edition</td>\n",
       "      <td>10E</td>\n",
       "      <td>Tenth Edition</td>\n",
       "      <td>2007-07-13</td>\n",
       "      <td>[{'category': 'booster_box', 'contents': {'sea...</td>\n",
       "      <td>1.0</td>\n",
       "      <td>T10E</td>\n",
       "      <td>[{'artist': 'Paolo Parente', 'artistIds': ['d4...</td>\n",
       "      <td>510</td>\n",
       "      <td>{'Chinese Simplified': None, 'Chinese Traditio...</td>\n",
       "      <td>core</td>\n",
       "      <td>NaN</td>\n",
       "      <td>NaN</td>\n",
       "      <td>NaN</td>\n",
       "      <td>NaN</td>\n",
       "      <td>NaN</td>\n",
       "    </tr>\n",
       "    <tr>\n",
       "      <th>1</th>\n",
       "      <td>302</td>\n",
       "      <td>Core Set</td>\n",
       "      <td>{'default': {'boosters': [{'contents': {'commo...</td>\n",
       "      <td>[{'artist': 'Dan Frazier', 'artistIds': ['059b...</td>\n",
       "      <td>938.0</td>\n",
       "      <td>2ED</td>\n",
       "      <td>NaN</td>\n",
       "      <td>False</td>\n",
       "      <td>False</td>\n",
       "      <td>2ED</td>\n",
       "      <td>[English]</td>\n",
       "      <td>NaN</td>\n",
       "      <td>NaN</td>\n",
       "      <td>NaN</td>\n",
       "      <td>Unlimited Edition</td>\n",
       "      <td>1993-12-01</td>\n",
       "      <td>[{'category': 'booster_box', 'contents': {'sea...</td>\n",
       "      <td>115.0</td>\n",
       "      <td>NaN</td>\n",
       "      <td>[]</td>\n",
       "      <td>302</td>\n",
       "      <td>{}</td>\n",
       "      <td>core</td>\n",
       "      <td>True</td>\n",
       "      <td>NaN</td>\n",
       "      <td>NaN</td>\n",
       "      <td>NaN</td>\n",
       "      <td>NaN</td>\n",
       "    </tr>\n",
       "    <tr>\n",
       "      <th>2</th>\n",
       "      <td>331</td>\n",
       "      <td>NaN</td>\n",
       "      <td>{'collector': {'boosters': [{'contents': {'com...</td>\n",
       "      <td>[{'artist': 'Mark Tedin', 'artistIds': ['9ee9a...</td>\n",
       "      <td>1462.0</td>\n",
       "      <td>2X2</td>\n",
       "      <td>NaN</td>\n",
       "      <td>False</td>\n",
       "      <td>False</td>\n",
       "      <td>2X2</td>\n",
       "      <td>[Chinese Simplified, English, French, German, ...</td>\n",
       "      <td>5070.0</td>\n",
       "      <td>Double Masters 2022</td>\n",
       "      <td>NaN</td>\n",
       "      <td>Double Masters 2022</td>\n",
       "      <td>2022-07-08</td>\n",
       "      <td>[{'category': 'limited_aid_tool', 'contents': ...</td>\n",
       "      <td>3070.0</td>\n",
       "      <td>T2X2</td>\n",
       "      <td>[{'artist': 'Izzy', 'artistIds': ['2c3d2473-ff...</td>\n",
       "      <td>579</td>\n",
       "      <td>{'Chinese Simplified': None, 'Chinese Traditio...</td>\n",
       "      <td>masters</td>\n",
       "      <td>NaN</td>\n",
       "      <td>5071.0</td>\n",
       "      <td>NaN</td>\n",
       "      <td>NaN</td>\n",
       "      <td>NaN</td>\n",
       "    </tr>\n",
       "  </tbody>\n",
       "</table>\n",
       "</div>"
      ],
      "text/plain": [
       "   baseSetSize     block                                            booster  \\\n",
       "0          383  Core Set  {'draft': {'boosters': [{'contents': {'basic':...   \n",
       "1          302  Core Set  {'default': {'boosters': [{'contents': {'commo...   \n",
       "2          331       NaN  {'collector': {'boosters': [{'contents': {'com...   \n",
       "\n",
       "                                               cards  cardsphereSetId code  \\\n",
       "0  [{'artist': 'Pete Venters', 'artistIds': ['d54...            755.0  10E   \n",
       "1  [{'artist': 'Dan Frazier', 'artistIds': ['059b...            938.0  2ED   \n",
       "2  [{'artist': 'Mark Tedin', 'artistIds': ['9ee9a...           1462.0  2X2   \n",
       "\n",
       "                                               decks  isFoilOnly  \\\n",
       "0  [{'code': '10E', 'commander': [], 'displayComm...       False   \n",
       "1                                                NaN       False   \n",
       "2                                                NaN       False   \n",
       "\n",
       "   isOnlineOnly keyruneCode  \\\n",
       "0         False         10E   \n",
       "1         False         2ED   \n",
       "2         False         2X2   \n",
       "\n",
       "                                           languages   mcmId  \\\n",
       "0  [Chinese Simplified, English, French, German, ...    74.0   \n",
       "1                                          [English]     NaN   \n",
       "2  [Chinese Simplified, English, French, German, ...  5070.0   \n",
       "\n",
       "               mcmName mtgoCode                 name releaseDate  \\\n",
       "0        Tenth Edition      10E        Tenth Edition  2007-07-13   \n",
       "1                  NaN      NaN    Unlimited Edition  1993-12-01   \n",
       "2  Double Masters 2022      NaN  Double Masters 2022  2022-07-08   \n",
       "\n",
       "                                       sealedProduct  tcgplayerGroupId  \\\n",
       "0  [{'category': 'booster_box', 'contents': {'sea...               1.0   \n",
       "1  [{'category': 'booster_box', 'contents': {'sea...             115.0   \n",
       "2  [{'category': 'limited_aid_tool', 'contents': ...            3070.0   \n",
       "\n",
       "  tokenSetCode                                             tokens  \\\n",
       "0         T10E  [{'artist': 'Paolo Parente', 'artistIds': ['d4...   \n",
       "1          NaN                                                 []   \n",
       "2         T2X2  [{'artist': 'Izzy', 'artistIds': ['2c3d2473-ff...   \n",
       "\n",
       "   totalSetSize                                       translations     type  \\\n",
       "0           510  {'Chinese Simplified': None, 'Chinese Traditio...     core   \n",
       "1           302                                                 {}     core   \n",
       "2           579  {'Chinese Simplified': None, 'Chinese Traditio...  masters   \n",
       "\n",
       "  isNonFoilOnly  mcmIdExtras isForeignOnly parentCode isPartialPreview  \n",
       "0           NaN          NaN           NaN        NaN              NaN  \n",
       "1          True          NaN           NaN        NaN              NaN  \n",
       "2           NaN       5071.0           NaN        NaN              NaN  "
      ]
     },
     "execution_count": 12,
     "metadata": {},
     "output_type": "execute_result"
    }
   ],
   "source": [
    "# Reviewing columns in main dataframe\n",
    "print(df__sets.columns)\n",
    "df__sets.head(3)"
   ]
  },
  {
   "cell_type": "code",
   "execution_count": null,
   "metadata": {},
   "outputs": [
    {
     "data": {
      "text/html": [
       "<div>\n",
       "<style scoped>\n",
       "    .dataframe tbody tr th:only-of-type {\n",
       "        vertical-align: middle;\n",
       "    }\n",
       "\n",
       "    .dataframe tbody tr th {\n",
       "        vertical-align: top;\n",
       "    }\n",
       "\n",
       "    .dataframe thead th {\n",
       "        text-align: right;\n",
       "    }\n",
       "</style>\n",
       "<table border=\"1\" class=\"dataframe\">\n",
       "  <thead>\n",
       "    <tr style=\"text-align: right;\">\n",
       "      <th></th>\n",
       "      <th>SET_CODE</th>\n",
       "      <th>BOOSTER_TYPE</th>\n",
       "      <th>BOOSTER_CONTENT</th>\n",
       "    </tr>\n",
       "  </thead>\n",
       "  <tbody>\n",
       "    <tr>\n",
       "      <th>0</th>\n",
       "      <td>10E</td>\n",
       "      <td>draft</td>\n",
       "      <td>{'boosters': [{'contents': {'basic': 1, 'commo...</td>\n",
       "    </tr>\n",
       "    <tr>\n",
       "      <th>1</th>\n",
       "      <td>2ED</td>\n",
       "      <td>default</td>\n",
       "      <td>{'boosters': [{'contents': {'common': 11, 'rar...</td>\n",
       "    </tr>\n",
       "    <tr>\n",
       "      <th>2</th>\n",
       "      <td>2ED</td>\n",
       "      <td>starter</td>\n",
       "      <td>{'boosters': [{'contents': {'commonWithDuplica...</td>\n",
       "    </tr>\n",
       "    <tr>\n",
       "      <th>3</th>\n",
       "      <td>2X2</td>\n",
       "      <td>collector</td>\n",
       "      <td>{'boosters': [{'contents': {'commonUncommonSho...</td>\n",
       "    </tr>\n",
       "    <tr>\n",
       "      <th>4</th>\n",
       "      <td>2X2</td>\n",
       "      <td>draft</td>\n",
       "      <td>{'boosters': [{'contents': {'commonWithShowcas...</td>\n",
       "    </tr>\n",
       "  </tbody>\n",
       "</table>\n",
       "</div>"
      ],
      "text/plain": [
       "  SET_CODE BOOSTER_TYPE                                    BOOSTER_CONTENT\n",
       "0      10E        draft  {'boosters': [{'contents': {'basic': 1, 'commo...\n",
       "1      2ED      default  {'boosters': [{'contents': {'common': 11, 'rar...\n",
       "2      2ED      starter  {'boosters': [{'contents': {'commonWithDuplica...\n",
       "3      2X2    collector  {'boosters': [{'contents': {'commonUncommonSho...\n",
       "4      2X2        draft  {'boosters': [{'contents': {'commonWithShowcas..."
      ]
     },
     "execution_count": 19,
     "metadata": {},
     "output_type": "execute_result"
    }
   ],
   "source": [
    "# Collect results\n",
    "rows = []\n",
    "\n",
    "# Loop through sets\n",
    "for mtg_set, set_data in dict__all_printings[\"data\"].items():\n",
    "    booster_data = set_data.get(\"booster\", None)\n",
    "\n",
    "    if isinstance(booster_data, dict):\n",
    "        # Expand each booster type into its own row\n",
    "        for booster_type, booster_content in booster_data.items():\n",
    "            rows.append({\n",
    "                 'SET_CODE'        : mtg_set\n",
    "                ,'BOOSTER_TYPE'    : booster_type\n",
    "                ,'BOOSTER_CONTENT' : booster_content\n",
    "            })\n",
    "    else:\n",
    "        # Add a single row with None values\n",
    "        rows.append({\n",
    "             'SET_CODE'        : mtg_set\n",
    "            ,'BOOSTER_TYPE'    : None\n",
    "            ,'BOOSTER_CONTENT' : None\n",
    "        })\n",
    "\n",
    "# Convert to DataFrame\n",
    "df__boosters = pd.DataFrame(rows)"
   ]
  },
  {
   "cell_type": "code",
   "execution_count": 24,
   "metadata": {},
   "outputs": [
    {
     "name": "stdout",
     "output_type": "stream",
     "text": [
      "<class 'pandas.core.frame.DataFrame'>\n",
      "RangeIndex: 1187 entries, 0 to 1186\n",
      "Data columns (total 3 columns):\n",
      " #   Column           Non-Null Count  Dtype \n",
      "---  ------           --------------  ----- \n",
      " 0   SET_CODE         1187 non-null   object\n",
      " 1   BOOSTER_TYPE     547 non-null    object\n",
      " 2   BOOSTER_CONTENT  1187 non-null   object\n",
      "dtypes: object(3)\n",
      "memory usage: 27.9+ KB\n"
     ]
    }
   ],
   "source": [
    "df__boosters[\"BOOSTER_CONTENT\"] = df__boosters[\"BOOSTER_CONTENT\"].astype(str)\n",
    "df__boosters.info()"
   ]
  },
  {
   "cell_type": "markdown",
   "metadata": {},
   "source": [
    "## Output"
   ]
  },
  {
   "cell_type": "code",
   "execution_count": 28,
   "metadata": {},
   "outputs": [],
   "source": [
    "recency_check_upload(schema_name = \"raw_data\"\n",
    "                    ,table_name  = \"data_recency\"\n",
    "                    ,dataframe   = df__data_recency)"
   ]
  },
  {
   "cell_type": "code",
   "execution_count": 25,
   "metadata": {},
   "outputs": [
    {
     "data": {
      "text/plain": [
       "187"
      ]
     },
     "execution_count": 25,
     "metadata": {},
     "output_type": "execute_result"
    }
   ],
   "source": [
    "# Uploading the keywords dataframe to postgresql\n",
    "df__boosters.to_sql(name      = 'boosters'\n",
    "                   ,con       = engine\n",
    "                   ,schema    = 'raw_data'\n",
    "                   ,if_exists = 'replace'\n",
    "                   ,index     = False)"
   ]
  },
  {
   "cell_type": "markdown",
   "metadata": {},
   "source": [
    "## Checks"
   ]
  },
  {
   "cell_type": "markdown",
   "metadata": {},
   "source": [
    "### Boosters"
   ]
  },
  {
   "cell_type": "code",
   "execution_count": 30,
   "metadata": {},
   "outputs": [
    {
     "data": {
      "text/html": [
       "<div>\n",
       "<style scoped>\n",
       "    .dataframe tbody tr th:only-of-type {\n",
       "        vertical-align: middle;\n",
       "    }\n",
       "\n",
       "    .dataframe tbody tr th {\n",
       "        vertical-align: top;\n",
       "    }\n",
       "\n",
       "    .dataframe thead th {\n",
       "        text-align: right;\n",
       "    }\n",
       "</style>\n",
       "<table border=\"1\" class=\"dataframe\">\n",
       "  <thead>\n",
       "    <tr style=\"text-align: right;\">\n",
       "      <th></th>\n",
       "      <th>json_type</th>\n",
       "      <th>latest_date</th>\n",
       "      <th>latest_version</th>\n",
       "    </tr>\n",
       "  </thead>\n",
       "  <tbody>\n",
       "    <tr>\n",
       "      <th>0</th>\n",
       "      <td>keyword</td>\n",
       "      <td>2025-08-20</td>\n",
       "      <td>5.2.2+20250820</td>\n",
       "    </tr>\n",
       "    <tr>\n",
       "      <th>1</th>\n",
       "      <td>all printings</td>\n",
       "      <td>2025-09-08</td>\n",
       "      <td>5.2.2+20250908</td>\n",
       "    </tr>\n",
       "  </tbody>\n",
       "</table>\n",
       "</div>"
      ],
      "text/plain": [
       "       json_type latest_date  latest_version\n",
       "0        keyword  2025-08-20  5.2.2+20250820\n",
       "1  all printings  2025-09-08  5.2.2+20250908"
      ]
     },
     "execution_count": 30,
     "metadata": {},
     "output_type": "execute_result"
    }
   ],
   "source": [
    "# Check the json file date and version\n",
    "query = \"\"\"\n",
    "        SELECT *\n",
    "        FROM raw_data.data_recency\n",
    "        \"\"\"\n",
    "pd.read_sql_query(query, con=engine)"
   ]
  },
  {
   "cell_type": "code",
   "execution_count": 31,
   "metadata": {},
   "outputs": [
    {
     "data": {
      "text/html": [
       "<div>\n",
       "<style scoped>\n",
       "    .dataframe tbody tr th:only-of-type {\n",
       "        vertical-align: middle;\n",
       "    }\n",
       "\n",
       "    .dataframe tbody tr th {\n",
       "        vertical-align: top;\n",
       "    }\n",
       "\n",
       "    .dataframe thead th {\n",
       "        text-align: right;\n",
       "    }\n",
       "</style>\n",
       "<table border=\"1\" class=\"dataframe\">\n",
       "  <thead>\n",
       "    <tr style=\"text-align: right;\">\n",
       "      <th></th>\n",
       "      <th>SET_CODE</th>\n",
       "      <th>BOOSTER_TYPE</th>\n",
       "      <th>BOOSTER_CONTENT</th>\n",
       "    </tr>\n",
       "  </thead>\n",
       "  <tbody>\n",
       "    <tr>\n",
       "      <th>0</th>\n",
       "      <td>10E</td>\n",
       "      <td>draft</td>\n",
       "      <td>{'boosters': [{'contents': {'basic': 1, 'commo...</td>\n",
       "    </tr>\n",
       "    <tr>\n",
       "      <th>1</th>\n",
       "      <td>2ED</td>\n",
       "      <td>default</td>\n",
       "      <td>{'boosters': [{'contents': {'common': 11, 'rar...</td>\n",
       "    </tr>\n",
       "    <tr>\n",
       "      <th>2</th>\n",
       "      <td>2ED</td>\n",
       "      <td>starter</td>\n",
       "      <td>{'boosters': [{'contents': {'commonWithDuplica...</td>\n",
       "    </tr>\n",
       "    <tr>\n",
       "      <th>3</th>\n",
       "      <td>2X2</td>\n",
       "      <td>collector</td>\n",
       "      <td>{'boosters': [{'contents': {'commonUncommonSho...</td>\n",
       "    </tr>\n",
       "    <tr>\n",
       "      <th>4</th>\n",
       "      <td>2X2</td>\n",
       "      <td>draft</td>\n",
       "      <td>{'boosters': [{'contents': {'commonWithShowcas...</td>\n",
       "    </tr>\n",
       "    <tr>\n",
       "      <th>5</th>\n",
       "      <td>2XM</td>\n",
       "      <td>box-topper</td>\n",
       "      <td>{'boosters': [{'contents': {'boxtopper': 1}, '...</td>\n",
       "    </tr>\n",
       "    <tr>\n",
       "      <th>6</th>\n",
       "      <td>2XM</td>\n",
       "      <td>draft</td>\n",
       "      <td>{'boosters': [{'contents': {'common': 8, 'dedi...</td>\n",
       "    </tr>\n",
       "    <tr>\n",
       "      <th>7</th>\n",
       "      <td>2XM</td>\n",
       "      <td>vip</td>\n",
       "      <td>{'boosters': [{'contents': {'foilBasic': 2, 'f...</td>\n",
       "    </tr>\n",
       "    <tr>\n",
       "      <th>8</th>\n",
       "      <td>30A</td>\n",
       "      <td>draft</td>\n",
       "      <td>{'boosters': [{'contents': {'a30Basic': 2, 'a3...</td>\n",
       "    </tr>\n",
       "    <tr>\n",
       "      <th>9</th>\n",
       "      <td>3ED</td>\n",
       "      <td>default</td>\n",
       "      <td>{'boosters': [{'contents': {'common': 11, 'rar...</td>\n",
       "    </tr>\n",
       "  </tbody>\n",
       "</table>\n",
       "</div>"
      ],
      "text/plain": [
       "  SET_CODE BOOSTER_TYPE                                    BOOSTER_CONTENT\n",
       "0      10E        draft  {'boosters': [{'contents': {'basic': 1, 'commo...\n",
       "1      2ED      default  {'boosters': [{'contents': {'common': 11, 'rar...\n",
       "2      2ED      starter  {'boosters': [{'contents': {'commonWithDuplica...\n",
       "3      2X2    collector  {'boosters': [{'contents': {'commonUncommonSho...\n",
       "4      2X2        draft  {'boosters': [{'contents': {'commonWithShowcas...\n",
       "5      2XM   box-topper  {'boosters': [{'contents': {'boxtopper': 1}, '...\n",
       "6      2XM        draft  {'boosters': [{'contents': {'common': 8, 'dedi...\n",
       "7      2XM          vip  {'boosters': [{'contents': {'foilBasic': 2, 'f...\n",
       "8      30A        draft  {'boosters': [{'contents': {'a30Basic': 2, 'a3...\n",
       "9      3ED      default  {'boosters': [{'contents': {'common': 11, 'rar..."
      ]
     },
     "execution_count": 31,
     "metadata": {},
     "output_type": "execute_result"
    }
   ],
   "source": [
    "# Check the dataframe top 10 values\n",
    "query = \"\"\"\n",
    "        SELECT *\n",
    "        FROM raw_data.boosters\n",
    "        LIMIT 10\n",
    "        \"\"\"\n",
    "pd.read_sql_query(query, con=engine)"
   ]
  },
  {
   "cell_type": "markdown",
   "metadata": {},
   "source": [
    "### Cards"
   ]
  }
 ],
 "metadata": {
  "hex_info": {
   "author": "Adam Brown",
   "exported_date": "Fri Aug 15 2025 20:57:54 GMT+0000 (Coordinated Universal Time)",
   "project_id": "01982c18-3640-7001-8127-b56bed0a428f",
   "version": "draft"
  },
  "kernelspec": {
   "display_name": ".venv",
   "language": "python",
   "name": "python3"
  },
  "language_info": {
   "codemirror_mode": {
    "name": "ipython",
    "version": 3
   },
   "file_extension": ".py",
   "mimetype": "text/x-python",
   "name": "python",
   "nbconvert_exporter": "python",
   "pygments_lexer": "ipython3",
   "version": "3.12.3"
  },
  "orig_nbformat": 4
 },
 "nbformat": 4,
 "nbformat_minor": 4
}

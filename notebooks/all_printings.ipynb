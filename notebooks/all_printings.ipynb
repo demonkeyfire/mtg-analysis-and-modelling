{
 "cells": [
  {
   "cell_type": "markdown",
   "metadata": {},
   "source": [
    "# All Printings Table"
   ]
  },
  {
   "cell_type": "markdown",
   "metadata": {},
   "source": [
    "## Introduction"
   ]
  },
  {
   "cell_type": "markdown",
   "metadata": {},
   "source": [
    "The purpose of this notebook is to process and upload all card data from MTGJSON into the postgresql database mtg_db. This is done through the following steps:\n",
    "- Download the json file from MTGJSON's file server\n",
    "- Check the version and date of the json file\n",
    "- Pre-process the dictionary and convert it into a dataframe\n",
    "- Push the keywords dataframe to the database \"raw_data\" schema"
   ]
  },
  {
   "cell_type": "markdown",
   "metadata": {},
   "source": [
    "## Schemas"
   ]
  },
  {
   "cell_type": "markdown",
   "metadata": {},
   "source": [
    "Set List Schema - Main table\n",
    "\n",
    "| Column            | Renamed         | Dataype    | Description                                                                |\n",
    "| ---               | ---             | ---        | ---                                                                        |\n",
    "| code              | SET_CODE        | STRING     | The set code                                                               |\n",
    "| name              | SET_NAME        | STRING     | Name of the set                                                            |\n",
    "| baseSetSize       | BASE_SET_SIZE   | INTEGER    | The number of cards in the base set without promos or supplements          |\n",
    "| booster           | BOOSTERS\n",
    "| cardsphereSetId   | CS_SET_ID       | FLOAT      | ID for set in Cardsphere                                                   |\n",
    "| mcmId             | CM_ID           | FLOAT      | Card Market set ID                                                         |\n",
    "| mcmIdExtras       | CM_ID_ADD       | FLOAT      | If the set is split into two sets this is the additional Card Market ID    |\n",
    "| mcmName           | CM_NAME         | STRING     | Name of the set on Card Market                                             |\n",
    "| isFoilOnly        | FOIL_FLAG       | BOOLEAN    | Flag whether the set is only available as foils                            |\n",
    "| isForeignOnly     | FOREIGN_FLAG    | BOOLEAN    | Flag whether the set is only available outside the US                      |\n",
    "| keyruneCode       | KEYRUNE_CODE    | STRING     | ID for the keyrune database of set icons                                   |\n",
    "| languages         | LANGUAGES       | LIST       | List of languages the set was printed in                                   |\n",
    "| mtgoCode          | MTGO_SET_CODE   | STRING     | Set code on Magic The Gathering Online                                     |\n",
    "| isNonFoilOnly     | NON_FOIL_FLAG   | BOOLEAN    | Flag whether the set is only available as non-foils                        |\n",
    "| isOnlineOnly      | ONLINE_FLAG     | BOOLEAN    | Flag whether the set is only available in online formats                   |\n",
    "| isPartialPreview  | PREVIEW_FLAG    | BOOLEAN    | Flag whether the set is still in preview and not complete                  |\n",
    "| sealedProduct     | PRODUCT_INFO    | LIST       | Information about the purchasable sealed product                           |\n",
    "| releaseDate       | RELEASE_DATE    | STRING     | Date the set was release, in format YYYY-MM-DD                             |\n",
    "| block             | SET_BLOCK_NAME  | STRING     | Block the set is in, e.g. Kaladesh                                         |\n",
    "| decks             | SET_DECKS       | LIST       | All decks associated with the set                                          |\n",
    "| parentCode        | SET_PARENT_CODE | STRING     | Code of the parent set for set variations, e.g. promotions, guild kits etc |\n",
    "| tokenSetCode      | SET_TOKEN_CODE  | STRING     | Code for the set's tokens                                                  |\n",
    "| type              | SET_TYPE        | STRING     | The type of set, e.g. alchemy, commander, funny                            |\n",
    "| tcgplayerGroupId  | TCGPG_ID        | INTEGER    | ID for the set on TCGplayer                                                |\n",
    "| totalSetSize      | TOTAL_SET_SIZE  | INTEGER    | The number opf cards in the set with promos and supplements                |\n",
    "| translations      | TRANSLATIONS    | DICTIONARY | The translated name of the set                                             |"
   ]
  },
  {
   "cell_type": "markdown",
   "metadata": {},
   "source": [
    "## Python Libraries"
   ]
  },
  {
   "cell_type": "code",
   "execution_count": null,
   "metadata": {},
   "outputs": [],
   "source": [
    "import sys\n",
    "import json\n",
    "import requests\n",
    "import lzma\n",
    "from   tqdm                           import tqdm\n",
    "import numpy                          as     np\n",
    "import pandas                         as     pd\n",
    "from   sqlalchemy                     import create_engine, inspect, Table, Column, MetaData, Text, Date, text\n",
    "from   sqlalchemy.dialects.postgresql import insert\n",
    "\n",
    "## Modular functions\n",
    "# Setting the root path for finding the modules directory\n",
    "import sys, os\n",
    "sys.path.append(os.path.abspath(\"..\"))\n",
    "# Loading Modular functions\n",
    "from   modules.data_recency import data_recency_check, recency_check_upload\n",
    "from   modules.utils_dict   import print_dict_structure\n",
    "from   modules.utils_memory import list_variables_memory\n",
    "\n",
    "# Clean-up\n",
    "del sys, os"
   ]
  },
  {
   "cell_type": "code",
   "execution_count": 2,
   "metadata": {},
   "outputs": [],
   "source": [
    "# Show all columns instead of truncating with \"...\"\n",
    "pd.set_option(\"display.max_columns\", None)\n",
    "\n",
    "# (Optional) also show all rows\n",
    "pd.set_option(\"display.max_rows\", None)\n",
    "\n",
    "# (Optional) widen the display area so columns don’t wrap badly\n",
    "pd.set_option(\"display.width\", None)"
   ]
  },
  {
   "cell_type": "markdown",
   "metadata": {},
   "source": [
    "## Input"
   ]
  },
  {
   "cell_type": "markdown",
   "metadata": {},
   "source": [
    "### Database Connection"
   ]
  },
  {
   "cell_type": "code",
   "execution_count": 3,
   "metadata": {},
   "outputs": [],
   "source": [
    "## Setting up credentials for accessing postgresql \"mtg_db\" database\n",
    "\n",
    "# Credentials for setting up connection to postgresql\n",
    "user     = \"postgres\"\n",
    "password = \"as:123bpostgresql\"\n",
    "host     = \"localhost\"\n",
    "port     = \"5432\"\n",
    "database = \"mtg_db\"\n",
    "\n",
    "# Engine connection to postgresql\n",
    "engine = create_engine(f\"postgresql+psycopg2://{user}:{password}@{host}:{port}/{database}\")"
   ]
  },
  {
   "cell_type": "code",
   "execution_count": 4,
   "metadata": {},
   "outputs": [],
   "source": [
    "## Creating the empty data_recency table if not exists\n",
    "query = \"\"\"\n",
    "        CREATE TABLE IF NOT EXISTS raw_data.data_recency (\n",
    "         json_type      TEXT PRIMARY KEY\n",
    "        ,latest_date    DATE\n",
    "        ,latest_version TEXT);\n",
    "        \"\"\"\n",
    "with engine.begin() as conn:\n",
    "    conn.execute(text(query))"
   ]
  },
  {
   "cell_type": "markdown",
   "metadata": {},
   "source": [
    "### Input Data"
   ]
  },
  {
   "cell_type": "code",
   "execution_count": 5,
   "metadata": {},
   "outputs": [
    {
     "name": "stderr",
     "output_type": "stream",
     "text": [
      "Downloading: 100%|██████████| 72.5M/72.5M [00:23<00:00, 3.08MB/s]\n"
     ]
    }
   ],
   "source": [
    "# URL for the MTGJSON file (example: AllPrintings)\n",
    "url = \"https://mtgjson.com/api/v5/AllPrintings.json.xz\"\n",
    "\n",
    "# Stream download the file to track progress\n",
    "response = requests.get(url, stream=True)\n",
    "response.raise_for_status()\n",
    "\n",
    "# Prepare to track total size and read in chunks\n",
    "total_size = int(response.headers.get('content-length', 0))  # total bytes, may be None\n",
    "chunk_size = 1024 * 1024  # 1 MB per chunk\n",
    "compressed_data = bytearray()  # store the downloaded bytes\n",
    "\n",
    "# Iterate over response chunks, updating progress bar\n",
    "with tqdm(total=total_size, unit='B', unit_scale=True, desc=\"Downloading\") as pbar:\n",
    "    for chunk in response.iter_content(chunk_size=chunk_size):\n",
    "        if chunk:  # filter out keep-alive chunks\n",
    "            compressed_data.extend(chunk)\n",
    "            pbar.update(len(chunk))\n",
    "\n",
    "# Decompress the .xz file from the bytes you collected\n",
    "decompressed_bytes = lzma.decompress(compressed_data)\n",
    "\n",
    "# Parse JSON into a dictionary\n",
    "dict__all_printings = json.loads(decompressed_bytes)\n",
    "\n",
    "# Clean Up\n",
    "del url, response, total_size, chunk_size, compressed_data,\n",
    "del pbar, chunk, decompressed_bytes"
   ]
  },
  {
   "cell_type": "markdown",
   "metadata": {},
   "source": [
    "## Pre-processing"
   ]
  },
  {
   "cell_type": "code",
   "execution_count": 6,
   "metadata": {},
   "outputs": [
    {
     "data": {
      "text/html": [
       "<div>\n",
       "<style scoped>\n",
       "    .dataframe tbody tr th:only-of-type {\n",
       "        vertical-align: middle;\n",
       "    }\n",
       "\n",
       "    .dataframe tbody tr th {\n",
       "        vertical-align: top;\n",
       "    }\n",
       "\n",
       "    .dataframe thead th {\n",
       "        text-align: right;\n",
       "    }\n",
       "</style>\n",
       "<table border=\"1\" class=\"dataframe\">\n",
       "  <thead>\n",
       "    <tr style=\"text-align: right;\">\n",
       "      <th></th>\n",
       "      <th>json_type</th>\n",
       "      <th>latest_date</th>\n",
       "      <th>latest_version</th>\n",
       "    </tr>\n",
       "  </thead>\n",
       "  <tbody>\n",
       "    <tr>\n",
       "      <th>0</th>\n",
       "      <td>all printings</td>\n",
       "      <td>2025-09-28</td>\n",
       "      <td>5.2.2+20250928</td>\n",
       "    </tr>\n",
       "  </tbody>\n",
       "</table>\n",
       "</div>"
      ],
      "text/plain": [
       "       json_type latest_date  latest_version\n",
       "0  all printings  2025-09-28  5.2.2+20250928"
      ]
     },
     "execution_count": 6,
     "metadata": {},
     "output_type": "execute_result"
    }
   ],
   "source": [
    "# Checking the latest version of the input data\n",
    "df__data_recency = data_recency_check(dict__all_printings, 'all printings')\n",
    "df__data_recency"
   ]
  },
  {
   "cell_type": "code",
   "execution_count": 10,
   "metadata": {},
   "outputs": [
    {
     "name": "stderr",
     "output_type": "stream",
     "text": [
      "Processing sets: 100%|██████████| 830/830 [00:07<00:00, 109.63it/s]\n"
     ]
    }
   ],
   "source": [
    "## Converting the first layer of JSON dictionary into dataframe\n",
    "# Empty list for storing dataframes\n",
    "list__set_data = []\n",
    "\n",
    "# Listing the set codes\n",
    "list__set_codes = list(dict__all_printings['data'].keys())\n",
    "\n",
    "# Looping through the set codes making individual dataframes\n",
    "for set_code in tqdm(list__set_codes, desc=\"Processing sets\"):\n",
    "    df__set = pd.json_normalize(dict__all_printings['data'][set_code], max_level=0)\n",
    "    list__set_data.append(df__set)\n",
    "\n",
    "# Concatenate sets into single DataFrame\n",
    "df__sets = pd.concat(list__set_data, ignore_index=True)\n",
    "\n",
    "# Clean Up\n",
    "del list__set_data, list__set_codes, set_code, df__set"
   ]
  },
  {
   "cell_type": "code",
   "execution_count": 27,
   "metadata": {},
   "outputs": [],
   "source": [
    "# Making a copy of the cards data\n",
    "df__cards = df__sets[['code'\n",
    "                     ,'name'\n",
    "                     ,'releaseDate'\n",
    "                     ,'cards']].copy()\n",
    "\n",
    "df__cards = df__cards.rename(columns={'code'         : 'SET_CODE'\n",
    "                                     ,'name'         : 'SET_NAME'\n",
    "                                     ,'releaseDate'  : 'RELEASE_DATE'\n",
    "                                     ,'cards'        : 'CARDS'}).sort_values(by = 'RELEASE_DATE').reset_index(drop = True)\n",
    "\n",
    "# Making a copy of the tokens data\n",
    "df__tokens = df__sets[['code'\n",
    "                      ,'name'\n",
    "                      ,'releaseDate'\n",
    "                      ,'tokenSetCode'\n",
    "                      ,'tokens']].copy()\n",
    "\n",
    "df__tokens = df__tokens.rename(columns={'code'         : 'SET_CODE'\n",
    "                                       ,'name'         : 'SET_NAME'\n",
    "                                       ,'releaseDate'  : 'RELEASE_DATE'\n",
    "                                       ,'tokenSetCode' : 'SET_TOKEN_CODE'\n",
    "                                       ,'tokens'       : 'TOKENS'}).sort_values(by = 'RELEASE_DATE').reset_index(drop = True)"
   ]
  },
  {
   "cell_type": "markdown",
   "metadata": {},
   "source": [
    "## Main Code"
   ]
  },
  {
   "cell_type": "code",
   "execution_count": 31,
   "metadata": {},
   "outputs": [
    {
     "data": {
      "text/html": [
       "<div>\n",
       "<style scoped>\n",
       "    .dataframe tbody tr th:only-of-type {\n",
       "        vertical-align: middle;\n",
       "    }\n",
       "\n",
       "    .dataframe tbody tr th {\n",
       "        vertical-align: top;\n",
       "    }\n",
       "\n",
       "    .dataframe thead th {\n",
       "        text-align: right;\n",
       "    }\n",
       "</style>\n",
       "<table border=\"1\" class=\"dataframe\">\n",
       "  <thead>\n",
       "    <tr style=\"text-align: right;\">\n",
       "      <th></th>\n",
       "      <th>SET_CODE</th>\n",
       "      <th>SET_NAME</th>\n",
       "      <th>RELEASE_DATE</th>\n",
       "      <th>CARDS</th>\n",
       "    </tr>\n",
       "  </thead>\n",
       "  <tbody>\n",
       "    <tr>\n",
       "      <th>0</th>\n",
       "      <td>LEA</td>\n",
       "      <td>Limited Edition Alpha</td>\n",
       "      <td>1993-08-05</td>\n",
       "      <td>[{'artist': 'Dan Frazier', 'artistIds': ['059b...</td>\n",
       "    </tr>\n",
       "  </tbody>\n",
       "</table>\n",
       "</div>"
      ],
      "text/plain": [
       "  SET_CODE               SET_NAME RELEASE_DATE  \\\n",
       "0      LEA  Limited Edition Alpha   1993-08-05   \n",
       "\n",
       "                                               CARDS  \n",
       "0  [{'artist': 'Dan Frazier', 'artistIds': ['059b...  "
      ]
     },
     "execution_count": 31,
     "metadata": {},
     "output_type": "execute_result"
    }
   ],
   "source": [
    "df__cards[df__cards['SET_CODE'] == 'LEA']"
   ]
  },
  {
   "cell_type": "code",
   "execution_count": 35,
   "metadata": {},
   "outputs": [
    {
     "data": {
      "text/plain": [
       "{'artist': 'Dan Frazier',\n",
       " 'artistIds': ['059bba56-5feb-42e4-8c2e-e2f1e6ba11f9'],\n",
       " 'availability': ['paper'],\n",
       " 'boosterTypes': ['default'],\n",
       " 'borderColor': 'black',\n",
       " 'colorIdentity': ['W'],\n",
       " 'colors': ['W'],\n",
       " 'convertedManaCost': 1.0,\n",
       " 'edhrecRank': 20938,\n",
       " 'finishes': ['nonfoil'],\n",
       " 'foreignData': [],\n",
       " 'frameVersion': '1993',\n",
       " 'hasFoil': False,\n",
       " 'hasNonFoil': True,\n",
       " 'identifiers': {'cardKingdomId': '64004',\n",
       "  'cardsphereId': '24523',\n",
       "  'deckboxId': '4850',\n",
       "  'mcmId': '5418',\n",
       "  'mtgjsonV4Id': '5b4a162f-c574-5f7e-a883-375aa3ba6642',\n",
       "  'multiverseId': '232',\n",
       "  'scryfallCardBackId': '0aeebaf5-8c7d-4636-9e82-8c27447861f7',\n",
       "  'scryfallId': 'd5c83259-9b90-47c2-b48e-c7d78519e792',\n",
       "  'scryfallIllustrationId': '6757e04d-7bfc-4bdc-9dcb-02059a2d4e60',\n",
       "  'scryfallOracleId': 'c7a6a165-b709-46e0-ae42-6f69a17c0621',\n",
       "  'tcgplayerProductId': '1029'},\n",
       " 'keywords': ['Enchant'],\n",
       " 'language': 'English',\n",
       " 'layout': 'normal',\n",
       " 'legalities': {'commander': 'Legal',\n",
       "  'duel': 'Legal',\n",
       "  'legacy': 'Legal',\n",
       "  'oathbreaker': 'Legal',\n",
       "  'oldschool': 'Legal',\n",
       "  'predh': 'Legal',\n",
       "  'premodern': 'Legal',\n",
       "  'vintage': 'Legal'},\n",
       " 'manaCost': '{W}',\n",
       " 'manaValue': 1.0,\n",
       " 'name': 'Animate Wall',\n",
       " 'number': '1',\n",
       " 'originalText': \"Target wall can now attack. Target wall's power and toughness are unchanged, even if its power is 0.\",\n",
       " 'printings': ['2ED',\n",
       "  '30A',\n",
       "  '3ED',\n",
       "  '4BB',\n",
       "  '4ED',\n",
       "  '5ED',\n",
       "  '6ED',\n",
       "  'CED',\n",
       "  'CEI',\n",
       "  'FBB',\n",
       "  'LEA',\n",
       "  'LEB',\n",
       "  'ME1',\n",
       "  'SUM'],\n",
       " 'purchaseUrls': {'cardKingdom': 'https://mtgjson.com/links/5bab9be709288464',\n",
       "  'tcgplayer': 'https://mtgjson.com/links/54e4d282a7e51259'},\n",
       " 'rarity': 'rare',\n",
       " 'rulings': [{'date': '2007-09-16',\n",
       "   'text': 'This is a change from the most recent wording. As was the case in the past, Animate Wall can now enchant only a Wall.'}],\n",
       " 'setCode': 'LEA',\n",
       " 'sourceProducts': {'nonfoil': ['7e17487a-7a6a-51ff-927e-7063226b93dc',\n",
       "   'b3b2af6e-cefc-5fb0-aa82-63fb73d9358b']},\n",
       " 'subtypes': ['Aura'],\n",
       " 'supertypes': [],\n",
       " 'text': \"Enchant Wall\\nEnchanted Wall can attack as though it didn't have defender.\",\n",
       " 'type': 'Enchantment — Aura',\n",
       " 'types': ['Enchantment'],\n",
       " 'uuid': '2b304dc1-8d7d-50a7-a310-2d0e5427935f'}"
      ]
     },
     "execution_count": 35,
     "metadata": {},
     "output_type": "execute_result"
    }
   ],
   "source": [
    "df__cards[df__cards['SET_CODE'] == 'LEA']['CARDS'].values[0][0]"
   ]
  },
  {
   "cell_type": "code",
   "execution_count": 37,
   "metadata": {},
   "outputs": [
    {
     "data": {
      "text/html": [
       "<div>\n",
       "<style scoped>\n",
       "    .dataframe tbody tr th:only-of-type {\n",
       "        vertical-align: middle;\n",
       "    }\n",
       "\n",
       "    .dataframe tbody tr th {\n",
       "        vertical-align: top;\n",
       "    }\n",
       "\n",
       "    .dataframe thead th {\n",
       "        text-align: right;\n",
       "    }\n",
       "</style>\n",
       "<table border=\"1\" class=\"dataframe\">\n",
       "  <thead>\n",
       "    <tr style=\"text-align: right;\">\n",
       "      <th></th>\n",
       "      <th>artist</th>\n",
       "      <th>artistIds</th>\n",
       "      <th>availability</th>\n",
       "      <th>boosterTypes</th>\n",
       "      <th>borderColor</th>\n",
       "      <th>colorIdentity</th>\n",
       "      <th>colors</th>\n",
       "      <th>convertedManaCost</th>\n",
       "      <th>edhrecRank</th>\n",
       "      <th>finishes</th>\n",
       "      <th>foreignData</th>\n",
       "      <th>frameVersion</th>\n",
       "      <th>hasFoil</th>\n",
       "      <th>hasNonFoil</th>\n",
       "      <th>identifiers</th>\n",
       "      <th>keywords</th>\n",
       "      <th>language</th>\n",
       "      <th>layout</th>\n",
       "      <th>legalities</th>\n",
       "      <th>manaCost</th>\n",
       "      <th>manaValue</th>\n",
       "      <th>name</th>\n",
       "      <th>number</th>\n",
       "      <th>originalText</th>\n",
       "      <th>printings</th>\n",
       "      <th>purchaseUrls</th>\n",
       "      <th>rarity</th>\n",
       "      <th>rulings</th>\n",
       "      <th>setCode</th>\n",
       "      <th>sourceProducts</th>\n",
       "      <th>subtypes</th>\n",
       "      <th>supertypes</th>\n",
       "      <th>text</th>\n",
       "      <th>type</th>\n",
       "      <th>types</th>\n",
       "      <th>uuid</th>\n",
       "    </tr>\n",
       "  </thead>\n",
       "  <tbody>\n",
       "    <tr>\n",
       "      <th>0</th>\n",
       "      <td>Dan Frazier</td>\n",
       "      <td>[059bba56-5feb-42e4-8c2e-e2f1e6ba11f9]</td>\n",
       "      <td>[paper]</td>\n",
       "      <td>[default]</td>\n",
       "      <td>black</td>\n",
       "      <td>[W]</td>\n",
       "      <td>[W]</td>\n",
       "      <td>1.0</td>\n",
       "      <td>20938</td>\n",
       "      <td>[nonfoil]</td>\n",
       "      <td>[]</td>\n",
       "      <td>1993</td>\n",
       "      <td>False</td>\n",
       "      <td>True</td>\n",
       "      <td>{'cardKingdomId': '64004', 'cardsphereId': '24...</td>\n",
       "      <td>[Enchant]</td>\n",
       "      <td>English</td>\n",
       "      <td>normal</td>\n",
       "      <td>{'commander': 'Legal', 'duel': 'Legal', 'legac...</td>\n",
       "      <td>{W}</td>\n",
       "      <td>1.0</td>\n",
       "      <td>Animate Wall</td>\n",
       "      <td>1</td>\n",
       "      <td>Target wall can now attack. Target wall's powe...</td>\n",
       "      <td>[2ED, 30A, 3ED, 4BB, 4ED, 5ED, 6ED, CED, CEI, ...</td>\n",
       "      <td>{'cardKingdom': 'https://mtgjson.com/links/5ba...</td>\n",
       "      <td>rare</td>\n",
       "      <td>[{'date': '2007-09-16', 'text': 'This is a cha...</td>\n",
       "      <td>LEA</td>\n",
       "      <td>{'nonfoil': ['7e17487a-7a6a-51ff-927e-7063226b...</td>\n",
       "      <td>[Aura]</td>\n",
       "      <td>[]</td>\n",
       "      <td>Enchant Wall\\nEnchanted Wall can attack as tho...</td>\n",
       "      <td>Enchantment — Aura</td>\n",
       "      <td>[Enchantment]</td>\n",
       "      <td>2b304dc1-8d7d-50a7-a310-2d0e5427935f</td>\n",
       "    </tr>\n",
       "  </tbody>\n",
       "</table>\n",
       "</div>"
      ],
      "text/plain": [
       "        artist                               artistIds availability  \\\n",
       "0  Dan Frazier  [059bba56-5feb-42e4-8c2e-e2f1e6ba11f9]      [paper]   \n",
       "\n",
       "  boosterTypes borderColor colorIdentity colors  convertedManaCost  \\\n",
       "0    [default]       black           [W]    [W]                1.0   \n",
       "\n",
       "   edhrecRank   finishes foreignData frameVersion  hasFoil  hasNonFoil  \\\n",
       "0       20938  [nonfoil]          []         1993    False        True   \n",
       "\n",
       "                                         identifiers   keywords language  \\\n",
       "0  {'cardKingdomId': '64004', 'cardsphereId': '24...  [Enchant]  English   \n",
       "\n",
       "   layout                                         legalities manaCost  \\\n",
       "0  normal  {'commander': 'Legal', 'duel': 'Legal', 'legac...      {W}   \n",
       "\n",
       "   manaValue          name number  \\\n",
       "0        1.0  Animate Wall      1   \n",
       "\n",
       "                                        originalText  \\\n",
       "0  Target wall can now attack. Target wall's powe...   \n",
       "\n",
       "                                           printings  \\\n",
       "0  [2ED, 30A, 3ED, 4BB, 4ED, 5ED, 6ED, CED, CEI, ...   \n",
       "\n",
       "                                        purchaseUrls rarity  \\\n",
       "0  {'cardKingdom': 'https://mtgjson.com/links/5ba...   rare   \n",
       "\n",
       "                                             rulings setCode  \\\n",
       "0  [{'date': '2007-09-16', 'text': 'This is a cha...     LEA   \n",
       "\n",
       "                                      sourceProducts subtypes supertypes  \\\n",
       "0  {'nonfoil': ['7e17487a-7a6a-51ff-927e-7063226b...   [Aura]         []   \n",
       "\n",
       "                                                text                type  \\\n",
       "0  Enchant Wall\\nEnchanted Wall can attack as tho...  Enchantment — Aura   \n",
       "\n",
       "           types                                  uuid  \n",
       "0  [Enchantment]  2b304dc1-8d7d-50a7-a310-2d0e5427935f  "
      ]
     },
     "execution_count": 37,
     "metadata": {},
     "output_type": "execute_result"
    }
   ],
   "source": [
    "pd.json_normalize(df__cards[df__cards['SET_CODE'] == 'LEA']['CARDS'].values[0][0], max_level=0)"
   ]
  },
  {
   "cell_type": "markdown",
   "metadata": {},
   "source": [
    "## Output"
   ]
  },
  {
   "cell_type": "code",
   "execution_count": 28,
   "metadata": {},
   "outputs": [],
   "source": [
    "recency_check_upload(schema_name = \"raw_data\"\n",
    "                    ,table_name  = \"data_recency\"\n",
    "                    ,dataframe   = df__data_recency)"
   ]
  },
  {
   "cell_type": "code",
   "execution_count": 25,
   "metadata": {},
   "outputs": [
    {
     "data": {
      "text/plain": [
       "187"
      ]
     },
     "execution_count": 25,
     "metadata": {},
     "output_type": "execute_result"
    }
   ],
   "source": [
    "# Uploading the keywords dataframe to postgresql\n",
    "df__boosters.to_sql(name      = 'boosters'\n",
    "                   ,con       = engine\n",
    "                   ,schema    = 'raw_data'\n",
    "                   ,if_exists = 'replace'\n",
    "                   ,index     = False)"
   ]
  },
  {
   "cell_type": "markdown",
   "metadata": {},
   "source": [
    "## Checks"
   ]
  },
  {
   "cell_type": "markdown",
   "metadata": {},
   "source": [
    "### Boosters"
   ]
  },
  {
   "cell_type": "code",
   "execution_count": 30,
   "metadata": {},
   "outputs": [
    {
     "data": {
      "text/html": [
       "<div>\n",
       "<style scoped>\n",
       "    .dataframe tbody tr th:only-of-type {\n",
       "        vertical-align: middle;\n",
       "    }\n",
       "\n",
       "    .dataframe tbody tr th {\n",
       "        vertical-align: top;\n",
       "    }\n",
       "\n",
       "    .dataframe thead th {\n",
       "        text-align: right;\n",
       "    }\n",
       "</style>\n",
       "<table border=\"1\" class=\"dataframe\">\n",
       "  <thead>\n",
       "    <tr style=\"text-align: right;\">\n",
       "      <th></th>\n",
       "      <th>json_type</th>\n",
       "      <th>latest_date</th>\n",
       "      <th>latest_version</th>\n",
       "    </tr>\n",
       "  </thead>\n",
       "  <tbody>\n",
       "    <tr>\n",
       "      <th>0</th>\n",
       "      <td>keyword</td>\n",
       "      <td>2025-08-20</td>\n",
       "      <td>5.2.2+20250820</td>\n",
       "    </tr>\n",
       "    <tr>\n",
       "      <th>1</th>\n",
       "      <td>all printings</td>\n",
       "      <td>2025-09-08</td>\n",
       "      <td>5.2.2+20250908</td>\n",
       "    </tr>\n",
       "  </tbody>\n",
       "</table>\n",
       "</div>"
      ],
      "text/plain": [
       "       json_type latest_date  latest_version\n",
       "0        keyword  2025-08-20  5.2.2+20250820\n",
       "1  all printings  2025-09-08  5.2.2+20250908"
      ]
     },
     "execution_count": 30,
     "metadata": {},
     "output_type": "execute_result"
    }
   ],
   "source": [
    "# Check the json file date and version\n",
    "query = \"\"\"\n",
    "        SELECT *\n",
    "        FROM raw_data.data_recency\n",
    "        \"\"\"\n",
    "pd.read_sql_query(query, con=engine)"
   ]
  },
  {
   "cell_type": "code",
   "execution_count": 31,
   "metadata": {},
   "outputs": [
    {
     "data": {
      "text/html": [
       "<div>\n",
       "<style scoped>\n",
       "    .dataframe tbody tr th:only-of-type {\n",
       "        vertical-align: middle;\n",
       "    }\n",
       "\n",
       "    .dataframe tbody tr th {\n",
       "        vertical-align: top;\n",
       "    }\n",
       "\n",
       "    .dataframe thead th {\n",
       "        text-align: right;\n",
       "    }\n",
       "</style>\n",
       "<table border=\"1\" class=\"dataframe\">\n",
       "  <thead>\n",
       "    <tr style=\"text-align: right;\">\n",
       "      <th></th>\n",
       "      <th>SET_CODE</th>\n",
       "      <th>BOOSTER_TYPE</th>\n",
       "      <th>BOOSTER_CONTENT</th>\n",
       "    </tr>\n",
       "  </thead>\n",
       "  <tbody>\n",
       "    <tr>\n",
       "      <th>0</th>\n",
       "      <td>10E</td>\n",
       "      <td>draft</td>\n",
       "      <td>{'boosters': [{'contents': {'basic': 1, 'commo...</td>\n",
       "    </tr>\n",
       "    <tr>\n",
       "      <th>1</th>\n",
       "      <td>2ED</td>\n",
       "      <td>default</td>\n",
       "      <td>{'boosters': [{'contents': {'common': 11, 'rar...</td>\n",
       "    </tr>\n",
       "    <tr>\n",
       "      <th>2</th>\n",
       "      <td>2ED</td>\n",
       "      <td>starter</td>\n",
       "      <td>{'boosters': [{'contents': {'commonWithDuplica...</td>\n",
       "    </tr>\n",
       "    <tr>\n",
       "      <th>3</th>\n",
       "      <td>2X2</td>\n",
       "      <td>collector</td>\n",
       "      <td>{'boosters': [{'contents': {'commonUncommonSho...</td>\n",
       "    </tr>\n",
       "    <tr>\n",
       "      <th>4</th>\n",
       "      <td>2X2</td>\n",
       "      <td>draft</td>\n",
       "      <td>{'boosters': [{'contents': {'commonWithShowcas...</td>\n",
       "    </tr>\n",
       "    <tr>\n",
       "      <th>5</th>\n",
       "      <td>2XM</td>\n",
       "      <td>box-topper</td>\n",
       "      <td>{'boosters': [{'contents': {'boxtopper': 1}, '...</td>\n",
       "    </tr>\n",
       "    <tr>\n",
       "      <th>6</th>\n",
       "      <td>2XM</td>\n",
       "      <td>draft</td>\n",
       "      <td>{'boosters': [{'contents': {'common': 8, 'dedi...</td>\n",
       "    </tr>\n",
       "    <tr>\n",
       "      <th>7</th>\n",
       "      <td>2XM</td>\n",
       "      <td>vip</td>\n",
       "      <td>{'boosters': [{'contents': {'foilBasic': 2, 'f...</td>\n",
       "    </tr>\n",
       "    <tr>\n",
       "      <th>8</th>\n",
       "      <td>30A</td>\n",
       "      <td>draft</td>\n",
       "      <td>{'boosters': [{'contents': {'a30Basic': 2, 'a3...</td>\n",
       "    </tr>\n",
       "    <tr>\n",
       "      <th>9</th>\n",
       "      <td>3ED</td>\n",
       "      <td>default</td>\n",
       "      <td>{'boosters': [{'contents': {'common': 11, 'rar...</td>\n",
       "    </tr>\n",
       "  </tbody>\n",
       "</table>\n",
       "</div>"
      ],
      "text/plain": [
       "  SET_CODE BOOSTER_TYPE                                    BOOSTER_CONTENT\n",
       "0      10E        draft  {'boosters': [{'contents': {'basic': 1, 'commo...\n",
       "1      2ED      default  {'boosters': [{'contents': {'common': 11, 'rar...\n",
       "2      2ED      starter  {'boosters': [{'contents': {'commonWithDuplica...\n",
       "3      2X2    collector  {'boosters': [{'contents': {'commonUncommonSho...\n",
       "4      2X2        draft  {'boosters': [{'contents': {'commonWithShowcas...\n",
       "5      2XM   box-topper  {'boosters': [{'contents': {'boxtopper': 1}, '...\n",
       "6      2XM        draft  {'boosters': [{'contents': {'common': 8, 'dedi...\n",
       "7      2XM          vip  {'boosters': [{'contents': {'foilBasic': 2, 'f...\n",
       "8      30A        draft  {'boosters': [{'contents': {'a30Basic': 2, 'a3...\n",
       "9      3ED      default  {'boosters': [{'contents': {'common': 11, 'rar..."
      ]
     },
     "execution_count": 31,
     "metadata": {},
     "output_type": "execute_result"
    }
   ],
   "source": [
    "# Check the dataframe top 10 values\n",
    "query = \"\"\"\n",
    "        SELECT *\n",
    "        FROM raw_data.boosters\n",
    "        LIMIT 10\n",
    "        \"\"\"\n",
    "pd.read_sql_query(query, con=engine)"
   ]
  },
  {
   "cell_type": "markdown",
   "metadata": {},
   "source": [
    "### Cards"
   ]
  }
 ],
 "metadata": {
  "hex_info": {
   "author": "Adam Brown",
   "exported_date": "Fri Aug 15 2025 20:57:54 GMT+0000 (Coordinated Universal Time)",
   "project_id": "01982c18-3640-7001-8127-b56bed0a428f",
   "version": "draft"
  },
  "kernelspec": {
   "display_name": ".venv",
   "language": "python",
   "name": "python3"
  },
  "language_info": {
   "codemirror_mode": {
    "name": "ipython",
    "version": 3
   },
   "file_extension": ".py",
   "mimetype": "text/x-python",
   "name": "python",
   "nbconvert_exporter": "python",
   "pygments_lexer": "ipython3",
   "version": "3.12.3"
  },
  "orig_nbformat": 4
 },
 "nbformat": 4,
 "nbformat_minor": 4
}
